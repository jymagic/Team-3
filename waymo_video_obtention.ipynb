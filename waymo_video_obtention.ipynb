{
 "cells": [
  {
   "cell_type": "markdown",
   "metadata": {},
   "source": [
    "### Team 2 initial data wrangling."
   ]
  },
  {
   "cell_type": "markdown",
   "metadata": {},
   "source": [
    "In this notebook we will try to obtain the waymo data in a way that it is easily processed and with which we can start our data analysis."
   ]
  },
  {
   "cell_type": "markdown",
   "metadata": {},
   "source": [
    "Example code obtained from: \n",
    "- https://colab.research.google.com/github/waymo-research/waymo-open-dataset/blob/master/tutorial/tutorial.ipynb#scrollTo=JPc-xBE6VMHi\n",
    "\n",
    "It was adapted in order to work with local windows machine\n",
    "\n",
    "You also need to follow:\n",
    "\n",
    "https://github.com/waymo-research/waymo-open-dataset\n",
    "\n",
    "in order to get the waymo open dataset package."
   ]
  },
  {
   "cell_type": "code",
   "execution_count": 12,
   "metadata": {},
   "outputs": [],
   "source": [
    "import os\n",
    "import imp\n",
    "import tensorflow as tf\n",
    "import math\n",
    "import numpy as np\n",
    "import itertools\n",
    "import matplotlib.pyplot as plt\n",
    "import cv2\n",
    "from os import listdir\n",
    "from os.path import isfile, join\n",
    "\n",
    "# TODO: Change this to your own setting\n",
    "os.environ['PYTHONPATH']='/env/python:~/github/waymo-open-dataset'\n",
    "m=imp.find_module('waymo_open_dataset', ['.'])\n",
    "imp.load_module('waymo_open_dataset', m[0], m[1], m[2])\n",
    "\n",
    "from waymo_open_dataset.utils import range_image_utils\n",
    "from waymo_open_dataset.utils import transform_utils\n",
    "from waymo_open_dataset import dataset_pb2 as open_dataset"
   ]
  },
  {
   "cell_type": "code",
   "execution_count": 14,
   "metadata": {},
   "outputs": [],
   "source": [
    "tf.enable_eager_execution()\n",
    "path = 'data/'\n",
    "files = [f for f in listdir(path) if isfile(join(path,f))]\n",
    "file = path+files[0]\n",
    "dataset = tf.data.TFRecordDataset(file, compression_type='')"
   ]
  },
  {
   "cell_type": "code",
   "execution_count": 16,
   "metadata": {},
   "outputs": [
    {
     "name": "stdout",
     "output_type": "stream",
     "text": [
      "filename: data/segment-10206293520369375008_2796_800_2816_800_with_camera_labels.tfrecord Num of frames: 199\n",
      "filename: data/segment-10206293520369375008_2796_800_2816_800_with_camera_labels.tfrecord Num of frames: 199\n"
     ]
    }
   ],
   "source": [
    "# Load frames from dataset\n",
    "frames = []\n",
    "for data in dataset:\n",
    "    frame = open_dataset.Frame()\n",
    "    frame.ParseFromString(bytearray(data.numpy()))\n",
    "    frames.append(frame)\n",
    "    \n",
    "print(\"filename:\", file, \"Num of frames:\", len(frames))\n",
    "    \n",
    "print(\"filename:\", file, \"Num of frames:\", len(frames))\n",
    "\n",
    "# [\"FRONT\", \"FRONT_LEFT\", \"SIDE_LEFT\", \"FRONT_RIGHT\", \"SIDE_RIGHT\"]\n",
    "POS = 0\n",
    "\n",
    "# Read img from waymo img class into numpy arrays\n",
    "imgs = []\n",
    "for frame in frames:\n",
    "  l = list(enumerate(frame.images))\n",
    "  _, im = l[POS]\n",
    "  img = tf.image.decode_jpeg(im.image)\n",
    "  height, width, _ = img.shape\n",
    "  size = (width,height)\n",
    "  imgs.append(img.numpy())\n",
    "    \n",
    "# [\"FRONT\", \"FRONT_LEFT\", \"SIDE_LEFT\", \"FRONT_RIGHT\", \"SIDE_RIGHT\"]\n",
    "POS = 0\n",
    "\n",
    "# Read img from waymo img class into numpy arrays\n",
    "imgs = []\n",
    "for frame in frames:\n",
    "  l = list(enumerate(frame.images))\n",
    "  _, im = l[POS]\n",
    "  img = tf.image.decode_jpeg(im.image)\n",
    "  height, width, _ = img.shape\n",
    "  size = (width,height)\n",
    "  imgs.append(img.numpy())\n",
    "    \n",
    "output = 'Videos/'+ files[0].split('.')[0] + \".mp4\"\n",
    "fps = 24\n",
    "\n",
    "# Write a sequence of imgs to a video  \n",
    "out = cv2.VideoWriter(output, cv2.VideoWriter_fourcc('M','J','P','G'), fps, size)\n",
    "for img in imgs:\n",
    "    out.write(img)\n",
    "out.release()"
   ]
  },
  {
   "cell_type": "code",
   "execution_count": 24,
   "metadata": {},
   "outputs": [
    {
     "ename": "NameError",
     "evalue": "name 'generate_video' is not defined",
     "output_type": "error",
     "traceback": [
      "\u001b[1;31m---------------------------------------------------------------------------\u001b[0m",
      "\u001b[1;31mNameError\u001b[0m                                 Traceback (most recent call last)",
      "\u001b[1;32m<ipython-input-24-509721d7df78>\u001b[0m in \u001b[0;36m<module>\u001b[1;34m()\u001b[0m\n\u001b[1;32m----> 1\u001b[1;33m \u001b[0mgenerate_video\u001b[0m\u001b[1;33m(\u001b[0m\u001b[1;33m)\u001b[0m\u001b[1;33m\u001b[0m\u001b[0m\n\u001b[0m",
      "\u001b[1;31mNameError\u001b[0m: name 'generate_video' is not defined"
     ]
    }
   ],
   "source": [
    "generate_video()"
   ]
  },
  {
   "cell_type": "code",
   "execution_count": null,
   "metadata": {},
   "outputs": [],
   "source": []
  }
 ],
 "metadata": {
  "kernelspec": {
   "display_name": "Python 3",
   "language": "python",
   "name": "python3"
  },
  "language_info": {
   "codemirror_mode": {
    "name": "ipython",
    "version": 3
   },
   "file_extension": ".py",
   "mimetype": "text/x-python",
   "name": "python",
   "nbconvert_exporter": "python",
   "pygments_lexer": "ipython3",
   "version": "3.6.5"
  }
 },
 "nbformat": 4,
 "nbformat_minor": 2
}
