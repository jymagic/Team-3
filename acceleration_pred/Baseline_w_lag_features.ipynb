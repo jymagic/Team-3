{
  "nbformat": 4,
  "nbformat_minor": 0,
  "metadata": {
    "colab": {
      "name": "Baseline_w_lag_features.ipynb",
      "provenance": [],
      "toc_visible": true
    },
    "kernelspec": {
      "name": "python3",
      "display_name": "Python 3"
    },
    "accelerator": "GPU"
  },
  "cells": [
    {
      "cell_type": "markdown",
      "metadata": {
        "id": "oK5WHMUId5Yx",
        "colab_type": "text"
      },
      "source": [
        "### 1 Mount Drive"
      ]
    },
    {
      "cell_type": "code",
      "metadata": {
        "id": "Gd1LGQGld0fq",
        "colab_type": "code",
        "colab": {
          "base_uri": "https://localhost:8080/",
          "height": 122
        },
        "outputId": "fbbcdc84-ee13-482a-f2ad-dc018c04187d"
      },
      "source": [
        "from google.colab import drive\n",
        "drive.mount('/content/drive')"
      ],
      "execution_count": 1,
      "outputs": [
        {
          "output_type": "stream",
          "text": [
            "Go to this URL in a browser: https://accounts.google.com/o/oauth2/auth?client_id=947318989803-6bn6qk8qdgf4n4g3pfee6491hc0brc4i.apps.googleusercontent.com&redirect_uri=urn%3Aietf%3Awg%3Aoauth%3A2.0%3Aoob&scope=email%20https%3A%2F%2Fwww.googleapis.com%2Fauth%2Fdocs.test%20https%3A%2F%2Fwww.googleapis.com%2Fauth%2Fdrive%20https%3A%2F%2Fwww.googleapis.com%2Fauth%2Fdrive.photos.readonly%20https%3A%2F%2Fwww.googleapis.com%2Fauth%2Fpeopleapi.readonly&response_type=code\n",
            "\n",
            "Enter your authorization code:\n",
            "··········\n",
            "Mounted at /content/drive\n"
          ],
          "name": "stdout"
        }
      ]
    },
    {
      "cell_type": "markdown",
      "metadata": {
        "id": "e1-VdPKieJpP",
        "colab_type": "text"
      },
      "source": [
        "## 2 Data Loading"
      ]
    },
    {
      "cell_type": "code",
      "metadata": {
        "id": "MpdspZvqeOk4",
        "colab_type": "code",
        "colab": {}
      },
      "source": [
        "import pandas as pd\n",
        "import numpy as np\n",
        "from os.path import join\n",
        "import glob\n",
        "import os\n",
        "\n",
        "# Chelsea's path\n",
        "training_prefix='/content/drive/My Drive/Waymo_large_dataset/training/'\n",
        "test_prefix='/content/drive/My Drive/Waymo_large_dataset/validation/'\n",
        "\n",
        "def load_data_from_files_with_id(prefix):\n",
        "    prefix = prefix.rstrip(os.sep)\n",
        "    files = [f for f in glob.iglob(join(prefix, join('**', '*.csv')), recursive=True)]\n",
        "    print(\"Loading data from {} files...\".format(len(files)))\n",
        "\n",
        "    df_list = []\n",
        "    for i in range(len(files)):\n",
        "      df = pd.read_csv(files[i], header = 0)\n",
        "      idx = [i] * df.shape[0]\n",
        "      df['id'] = idx\n",
        "      df_list.append(df)\n",
        "    \n",
        "    return pd.concat(df_list)\n",
        "\n",
        "def process_data(data):\n",
        "  data = data.set_index('id')\n",
        "  unique_ids = data.index.unique()\n",
        "  return data, unique_ids"
      ],
      "execution_count": 0,
      "outputs": []
    },
    {
      "cell_type": "code",
      "metadata": {
        "id": "kbjcrsTJubWg",
        "colab_type": "code",
        "colab": {
          "base_uri": "https://localhost:8080/",
          "height": 68
        },
        "outputId": "fe9a011a-86ba-4afe-c6b3-2ddd3ae10afa"
      },
      "source": [
        "train = load_data_from_files_with_id(training_prefix)\n",
        "test = load_data_from_files_with_id(test_prefix)\n",
        "\n",
        "train, train_ids = process_data(train)\n",
        "test, test_ids = process_data(test)\n",
        "\n",
        "print(train.shape, test.shape)"
      ],
      "execution_count": 3,
      "outputs": [
        {
          "output_type": "stream",
          "text": [
            "Loading data from 798 files...\n",
            "Loading data from 150 files...\n",
            "(158361, 15) (29754, 15)\n"
          ],
          "name": "stdout"
        }
      ]
    },
    {
      "cell_type": "code",
      "metadata": {
        "id": "STM8IP44vVBs",
        "colab_type": "code",
        "colab": {
          "base_uri": "https://localhost:8080/",
          "height": 235
        },
        "outputId": "e16e951a-3d2c-4026-c663-c0bfcc96c0cb"
      },
      "source": [
        "train.head()"
      ],
      "execution_count": 4,
      "outputs": [
        {
          "output_type": "execute_result",
          "data": {
            "text/html": [
              "<div>\n",
              "<style scoped>\n",
              "    .dataframe tbody tr th:only-of-type {\n",
              "        vertical-align: middle;\n",
              "    }\n",
              "\n",
              "    .dataframe tbody tr th {\n",
              "        vertical-align: top;\n",
              "    }\n",
              "\n",
              "    .dataframe thead th {\n",
              "        text-align: right;\n",
              "    }\n",
              "</style>\n",
              "<table border=\"1\" class=\"dataframe\">\n",
              "  <thead>\n",
              "    <tr style=\"text-align: right;\">\n",
              "      <th></th>\n",
              "      <th>vx</th>\n",
              "      <th>vy</th>\n",
              "      <th>vz</th>\n",
              "      <th>dx</th>\n",
              "      <th>dy</th>\n",
              "      <th>vfx</th>\n",
              "      <th>vfy</th>\n",
              "      <th>vfz</th>\n",
              "      <th>afx</th>\n",
              "      <th>afy</th>\n",
              "      <th>afz</th>\n",
              "      <th>num_v_labels</th>\n",
              "      <th>ax</th>\n",
              "      <th>ay</th>\n",
              "      <th>az</th>\n",
              "    </tr>\n",
              "    <tr>\n",
              "      <th>id</th>\n",
              "      <th></th>\n",
              "      <th></th>\n",
              "      <th></th>\n",
              "      <th></th>\n",
              "      <th></th>\n",
              "      <th></th>\n",
              "      <th></th>\n",
              "      <th></th>\n",
              "      <th></th>\n",
              "      <th></th>\n",
              "      <th></th>\n",
              "      <th></th>\n",
              "      <th></th>\n",
              "      <th></th>\n",
              "      <th></th>\n",
              "    </tr>\n",
              "  </thead>\n",
              "  <tbody>\n",
              "    <tr>\n",
              "      <th>0</th>\n",
              "      <td>-10.954589</td>\n",
              "      <td>-2.117917</td>\n",
              "      <td>0.012756</td>\n",
              "      <td>0.0</td>\n",
              "      <td>0.0</td>\n",
              "      <td>0.0</td>\n",
              "      <td>0.0</td>\n",
              "      <td>0.0</td>\n",
              "      <td>0.0</td>\n",
              "      <td>0.0</td>\n",
              "      <td>0.0</td>\n",
              "      <td>8.0</td>\n",
              "      <td>0.000000</td>\n",
              "      <td>0.000000</td>\n",
              "      <td>0.000000</td>\n",
              "    </tr>\n",
              "    <tr>\n",
              "      <th>0</th>\n",
              "      <td>-10.930109</td>\n",
              "      <td>-2.152400</td>\n",
              "      <td>-0.005913</td>\n",
              "      <td>0.0</td>\n",
              "      <td>0.0</td>\n",
              "      <td>0.0</td>\n",
              "      <td>0.0</td>\n",
              "      <td>0.0</td>\n",
              "      <td>0.0</td>\n",
              "      <td>0.0</td>\n",
              "      <td>0.0</td>\n",
              "      <td>8.0</td>\n",
              "      <td>-0.243569</td>\n",
              "      <td>0.343101</td>\n",
              "      <td>0.185750</td>\n",
              "    </tr>\n",
              "    <tr>\n",
              "      <th>0</th>\n",
              "      <td>-10.861781</td>\n",
              "      <td>-2.179386</td>\n",
              "      <td>-0.006538</td>\n",
              "      <td>0.0</td>\n",
              "      <td>0.0</td>\n",
              "      <td>0.0</td>\n",
              "      <td>0.0</td>\n",
              "      <td>0.0</td>\n",
              "      <td>0.0</td>\n",
              "      <td>0.0</td>\n",
              "      <td>0.0</td>\n",
              "      <td>8.0</td>\n",
              "      <td>-0.679845</td>\n",
              "      <td>0.268508</td>\n",
              "      <td>0.006225</td>\n",
              "    </tr>\n",
              "    <tr>\n",
              "      <th>0</th>\n",
              "      <td>-10.822652</td>\n",
              "      <td>-2.210152</td>\n",
              "      <td>-0.011221</td>\n",
              "      <td>0.0</td>\n",
              "      <td>0.0</td>\n",
              "      <td>0.0</td>\n",
              "      <td>0.0</td>\n",
              "      <td>0.0</td>\n",
              "      <td>0.0</td>\n",
              "      <td>0.0</td>\n",
              "      <td>0.0</td>\n",
              "      <td>7.0</td>\n",
              "      <td>-0.389326</td>\n",
              "      <td>0.306114</td>\n",
              "      <td>0.046590</td>\n",
              "    </tr>\n",
              "    <tr>\n",
              "      <th>0</th>\n",
              "      <td>-10.776157</td>\n",
              "      <td>-2.238142</td>\n",
              "      <td>-0.011096</td>\n",
              "      <td>0.0</td>\n",
              "      <td>0.0</td>\n",
              "      <td>0.0</td>\n",
              "      <td>0.0</td>\n",
              "      <td>0.0</td>\n",
              "      <td>0.0</td>\n",
              "      <td>0.0</td>\n",
              "      <td>0.0</td>\n",
              "      <td>7.0</td>\n",
              "      <td>-0.462608</td>\n",
              "      <td>0.278494</td>\n",
              "      <td>-0.001239</td>\n",
              "    </tr>\n",
              "  </tbody>\n",
              "</table>\n",
              "</div>"
            ],
            "text/plain": [
              "           vx        vy        vz  ...        ax        ay        az\n",
              "id                                 ...                              \n",
              "0  -10.954589 -2.117917  0.012756  ...  0.000000  0.000000  0.000000\n",
              "0  -10.930109 -2.152400 -0.005913  ... -0.243569  0.343101  0.185750\n",
              "0  -10.861781 -2.179386 -0.006538  ... -0.679845  0.268508  0.006225\n",
              "0  -10.822652 -2.210152 -0.011221  ... -0.389326  0.306114  0.046590\n",
              "0  -10.776157 -2.238142 -0.011096  ... -0.462608  0.278494 -0.001239\n",
              "\n",
              "[5 rows x 15 columns]"
            ]
          },
          "metadata": {
            "tags": []
          },
          "execution_count": 4
        }
      ]
    },
    {
      "cell_type": "markdown",
      "metadata": {
        "id": "ZdsMD4XTescP",
        "colab_type": "text"
      },
      "source": [
        "### 3 Lag feature generation\n",
        "\n",
        "original features:\n",
        "[vx, vy, vz, dx, dy, vfx, vfy, vfz, afx, afy, afz, num_v_labels]\n",
        "\n",
        "New features:\n",
        "[vx, vy, vz, dx, dy, vfx, vfy, vfz, afx, afy, afz, num_v_labels, vx_lag_1, vy_lag_1, vz_lag_1, vfx_lag_1, vfy_lag_1, vfz_lag_1]"
      ]
    },
    {
      "cell_type": "code",
      "metadata": {
        "id": "FSn1Hjv3pcUp",
        "colab_type": "code",
        "colab": {}
      },
      "source": [
        "def append_lag_features_for_single_id(single_data, feat_names, prev_n):\n",
        "  data = single_data.copy()\n",
        "\n",
        "  lag_feat = pd.DataFrame(single_data[feat_names].copy())\n",
        "\n",
        "  for feat_name in feat_names:\n",
        "    for i in range(1, prev_n + 1):\n",
        "      data['{}_lag_{}'.format(feat_name, i)] = lag_feat[feat_name].shift(i)\n",
        "\n",
        "  return data.dropna()\n",
        "\n",
        "def append_lag_features(ori_data, uniq_ids, feat_names, prev_n):\n",
        "  df_list = []\n",
        "  for identifier in uniq_ids:\n",
        "    single_data = ori_data.loc[identifier] #1\n",
        "    processed_data = append_lag_features_for_single_id(single_data, feat_names, prev_n)\n",
        "    df_list.append(processed_data)\n",
        "\n",
        "  return pd.concat(df_list)"
      ],
      "execution_count": 0,
      "outputs": []
    },
    {
      "cell_type": "code",
      "metadata": {
        "id": "Oyd2cB0otNWO",
        "colab_type": "code",
        "colab": {
          "base_uri": "https://localhost:8080/",
          "height": 34
        },
        "outputId": "b12d96c8-6d5d-42f1-b290-8fbf5df3f61e"
      },
      "source": [
        "prev_n = 1\n",
        "lag_feats = ['vx', 'vy', 'vz']\n",
        "\n",
        "train_lagged = append_lag_features(train, train_ids, lag_feats, prev_n)\n",
        "test_lagged = append_lag_features(test, test_ids, lag_feats, prev_n)\n",
        "\n",
        "print(train_lagged.shape, test_lagged.shape)"
      ],
      "execution_count": 7,
      "outputs": [
        {
          "output_type": "stream",
          "text": [
            "(157563, 18) (29604, 18)\n"
          ],
          "name": "stdout"
        }
      ]
    },
    {
      "cell_type": "markdown",
      "metadata": {
        "id": "EPhogxM6wIh-",
        "colab_type": "text"
      },
      "source": [
        "### 4 Model Training"
      ]
    },
    {
      "cell_type": "code",
      "metadata": {
        "id": "NuKk8brwwNBt",
        "colab_type": "code",
        "colab": {}
      },
      "source": [
        "import pandas as pd\n",
        "import numpy as np\n",
        "import xgboost\n",
        "from lightgbm import LGBMRegressor\n",
        "from mlxtend.regressor import StackingRegressor\n",
        "from sklearn.linear_model import Lasso\n",
        "from sklearn.model_selection import train_test_split\n",
        "from sklearn.compose import make_column_transformer\n",
        "from sklearn.preprocessing import StandardScaler\n",
        "from sklearn.preprocessing import RobustScaler\n",
        "from sklearn.pipeline import make_pipeline\n",
        "from sklearn.model_selection import cross_val_score\n",
        "from sklearn.ensemble import GradientBoostingRegressor\n",
        "from sklearn.metrics import mean_absolute_error"
      ],
      "execution_count": 0,
      "outputs": []
    },
    {
      "cell_type": "code",
      "metadata": {
        "id": "jJpZw5HjwRmw",
        "colab_type": "code",
        "colab": {
          "base_uri": "https://localhost:8080/",
          "height": 85
        },
        "outputId": "edf2ee73-2ec9-44ea-e41c-7a8b9ee72905"
      },
      "source": [
        "train = train_lagged\n",
        "test = test_lagged\n",
        "\n",
        "X = train.loc[:,['vx', 'vy', 'vz', 'dx', 'dy', 'vfx', 'vfy', 'vfz', 'afx', 'afy', 'afz', 'num_v_labels', 'vx_lag_1', 'vy_lag_1', 'vz_lag_1']]\n",
        "Y_ax = train.loc[:,['ax']].values.ravel() # flatten to 1d array\n",
        "Y_ay = train.loc[:,['ay']].values.ravel()\n",
        "\n",
        "# y = Y_ax\n",
        "X_train_ax, X_test_ax, y_train_ax, y_test_ax = train_test_split(X, Y_ax)\n",
        "X_train_ay, X_test_ay, y_train_ay, y_test_ay = train_test_split(X, Y_ay)\n",
        "\n",
        "X_test = test.loc[:,['vx', 'vy', 'vz', 'dx', 'dy', 'vfx', 'vfy', 'vfz', 'afx', 'afy', 'afz', 'num_v_labels', 'vx_lag_1', 'vy_lag_1', 'vz_lag_1']]\n",
        "Y_test_ax = test.loc[:, ['ax']].values.ravel()\n",
        "Y_test_ay = test.loc[:, ['ay']].values.ravel()\n",
        "\n",
        "print(\"X_train_ax shape: {}, X_test_ax shape:{}\".format(X_train_ax.shape, X_test_ax.shape))\n",
        "print(\"y_train_ax shape: {}, y_test_ax shape:{}\".format(y_train_ax.shape, y_test_ax.shape))\n",
        "\n",
        "print(\"X_train_ay shape: {}, X_test_ay shape:{}\".format(X_train_ay.shape, X_test_ay.shape))\n",
        "print(\"y_train_ay shape: {}, y_test_ay shape:{}\".format(y_train_ay.shape, y_test_ay.shape))\n"
      ],
      "execution_count": 9,
      "outputs": [
        {
          "output_type": "stream",
          "text": [
            "X_train_ax shape: (118172, 15), X_test_ax shape:(39391, 15)\n",
            "y_train_ax shape: (118172,), y_test_ax shape:(39391,)\n",
            "X_train_ay shape: (118172, 15), X_test_ay shape:(39391, 15)\n",
            "y_train_ay shape: (118172,), y_test_ay shape:(39391,)\n"
          ],
          "name": "stdout"
        }
      ]
    },
    {
      "cell_type": "code",
      "metadata": {
        "id": "46M6CLAKwrmH",
        "colab_type": "code",
        "colab": {
          "base_uri": "https://localhost:8080/",
          "height": 173
        },
        "outputId": "94a888ad-30c2-462f-fc1d-c761e261b354"
      },
      "source": [
        "# GPU\n",
        "model_XGB_ax_regressor = xgboost.XGBRegressor(\n",
        "        gamma=0.05,learning_rate=0.05, max_depth=3,\n",
        "        n_estimators=2500,reg_alpha=0.5, reg_lambda=0.85, \n",
        "        tree_method='gpu_hist', gpu_id=0)\n",
        "\n",
        "# CPU\n",
        "# model_XGB_ax_regressor = xgboost.XGBRegressor(\n",
        "#         gamma=0.05,learning_rate=0.05, max_depth=3,\n",
        "#         n_estimators=2500,reg_alpha=0.5, reg_lambda=0.85)\n",
        "\n",
        "model_XGB_ax_regressor.fit(X_train_ax, y_train_ax,\n",
        "        eval_set=[(X_train_ax, y_train_ax), (X_test_ax, y_test_ax)],\n",
        "        early_stopping_rounds=50, verbose=False)"
      ],
      "execution_count": 10,
      "outputs": [
        {
          "output_type": "stream",
          "text": [
            "[22:12:50] WARNING: /workspace/src/objective/regression_obj.cu:152: reg:linear is now deprecated in favor of reg:squarederror.\n"
          ],
          "name": "stdout"
        },
        {
          "output_type": "execute_result",
          "data": {
            "text/plain": [
              "XGBRegressor(base_score=0.5, booster='gbtree', colsample_bylevel=1,\n",
              "             colsample_bynode=1, colsample_bytree=1, gamma=0.05, gpu_id=0,\n",
              "             importance_type='gain', learning_rate=0.05, max_delta_step=0,\n",
              "             max_depth=3, min_child_weight=1, missing=None, n_estimators=2500,\n",
              "             n_jobs=1, nthread=None, objective='reg:linear', random_state=0,\n",
              "             reg_alpha=0.5, reg_lambda=0.85, scale_pos_weight=1, seed=None,\n",
              "             silent=None, subsample=1, tree_method='gpu_hist', verbosity=1)"
            ]
          },
          "metadata": {
            "tags": []
          },
          "execution_count": 10
        }
      ]
    },
    {
      "cell_type": "code",
      "metadata": {
        "id": "9kqV140hx2hN",
        "colab_type": "code",
        "colab": {
          "base_uri": "https://localhost:8080/",
          "height": 295
        },
        "outputId": "d5ca7ce5-e467-4103-a3ff-9233540aef4b"
      },
      "source": [
        "from xgboost import plot_importance\n",
        "\n",
        "_ = plot_importance(model_XGB_ax_regressor, height=0.9)"
      ],
      "execution_count": 11,
      "outputs": [
        {
          "output_type": "display_data",
          "data": {
            "image/png": "[encoded data removed]",
            "text/plain": [
              "<Figure size 432x288 with 1 Axes>"
            ]
          },
          "metadata": {
            "tags": []
          }
        }
      ]
    },
    {
      "cell_type": "code",
      "metadata": {
        "id": "YBzQjLiCyLhK",
        "colab_type": "code",
        "colab": {
          "base_uri": "https://localhost:8080/",
          "height": 51
        },
        "outputId": "5bf0fccf-10e6-4941-9ab6-0a1792453412"
      },
      "source": [
        "model_name = \"baseline\"\n",
        "y_label = \"ax\"\n",
        "\n",
        "print(\"Predicting {} on test data..\".format(model_name))\n",
        "pred_Y = model_XGB_ax_regressor.predict(X_test)\n",
        "print(\"MAE of {} for {} is {}\".format(model_name, y_label, mean_absolute_error(pred_Y, Y_test_ax)))"
      ],
      "execution_count": 14,
      "outputs": [
        {
          "output_type": "stream",
          "text": [
            "Predicting baseline on test data..\n",
            "MAE of baseline for ax is 0.27694125236600187\n"
          ],
          "name": "stdout"
        }
      ]
    },
    {
      "cell_type": "code",
      "metadata": {
        "id": "n-QaO51J0NJr",
        "colab_type": "code",
        "colab": {
          "base_uri": "https://localhost:8080/",
          "height": 255
        },
        "outputId": "2f8b12a8-d5b7-43b5-bac1-6dbdb1647c81"
      },
      "source": [
        "test['pred_ax'] = pred_Y"
      ],
      "execution_count": 16,
      "outputs": [
        {
          "output_type": "execute_result",
          "data": {
            "text/html": [
              "<div>\n",
              "<style scoped>\n",
              "    .dataframe tbody tr th:only-of-type {\n",
              "        vertical-align: middle;\n",
              "    }\n",
              "\n",
              "    .dataframe tbody tr th {\n",
              "        vertical-align: top;\n",
              "    }\n",
              "\n",
              "    .dataframe thead th {\n",
              "        text-align: right;\n",
              "    }\n",
              "</style>\n",
              "<table border=\"1\" class=\"dataframe\">\n",
              "  <thead>\n",
              "    <tr style=\"text-align: right;\">\n",
              "      <th></th>\n",
              "      <th>vx</th>\n",
              "      <th>vy</th>\n",
              "      <th>vz</th>\n",
              "      <th>dx</th>\n",
              "      <th>dy</th>\n",
              "      <th>vfx</th>\n",
              "      <th>vfy</th>\n",
              "      <th>vfz</th>\n",
              "      <th>afx</th>\n",
              "      <th>afy</th>\n",
              "      <th>afz</th>\n",
              "      <th>num_v_labels</th>\n",
              "      <th>ax</th>\n",
              "      <th>ay</th>\n",
              "      <th>az</th>\n",
              "      <th>vx_lag_1</th>\n",
              "      <th>vy_lag_1</th>\n",
              "      <th>vz_lag_1</th>\n",
              "      <th>pred_ax</th>\n",
              "    </tr>\n",
              "    <tr>\n",
              "      <th>id</th>\n",
              "      <th></th>\n",
              "      <th></th>\n",
              "      <th></th>\n",
              "      <th></th>\n",
              "      <th></th>\n",
              "      <th></th>\n",
              "      <th></th>\n",
              "      <th></th>\n",
              "      <th></th>\n",
              "      <th></th>\n",
              "      <th></th>\n",
              "      <th></th>\n",
              "      <th></th>\n",
              "      <th></th>\n",
              "      <th></th>\n",
              "      <th></th>\n",
              "      <th></th>\n",
              "      <th></th>\n",
              "      <th></th>\n",
              "    </tr>\n",
              "  </thead>\n",
              "  <tbody>\n",
              "    <tr>\n",
              "      <th>0</th>\n",
              "      <td>-1.540062</td>\n",
              "      <td>-0.089823</td>\n",
              "      <td>-0.004110</td>\n",
              "      <td>19.939327</td>\n",
              "      <td>1.802328</td>\n",
              "      <td>1.526405</td>\n",
              "      <td>0.077493</td>\n",
              "      <td>0.004109</td>\n",
              "      <td>0.617430</td>\n",
              "      <td>0.064007</td>\n",
              "      <td>-0.038098</td>\n",
              "      <td>27.0</td>\n",
              "      <td>-0.617498</td>\n",
              "      <td>-0.063932</td>\n",
              "      <td>0.038016</td>\n",
              "      <td>-1.602124</td>\n",
              "      <td>-0.096249</td>\n",
              "      <td>-0.000290</td>\n",
              "      <td>-0.768457</td>\n",
              "    </tr>\n",
              "    <tr>\n",
              "      <th>0</th>\n",
              "      <td>-1.526878</td>\n",
              "      <td>-0.108901</td>\n",
              "      <td>-0.017838</td>\n",
              "      <td>19.787335</td>\n",
              "      <td>1.781145</td>\n",
              "      <td>1.513234</td>\n",
              "      <td>0.096556</td>\n",
              "      <td>0.017846</td>\n",
              "      <td>0.131049</td>\n",
              "      <td>-0.189679</td>\n",
              "      <td>-0.136688</td>\n",
              "      <td>27.0</td>\n",
              "      <td>-0.131177</td>\n",
              "      <td>0.189820</td>\n",
              "      <td>0.136591</td>\n",
              "      <td>-1.540062</td>\n",
              "      <td>-0.089823</td>\n",
              "      <td>-0.004110</td>\n",
              "      <td>-0.180218</td>\n",
              "    </tr>\n",
              "    <tr>\n",
              "      <th>0</th>\n",
              "      <td>-1.481712</td>\n",
              "      <td>-0.096803</td>\n",
              "      <td>-0.014761</td>\n",
              "      <td>19.638062</td>\n",
              "      <td>1.751421</td>\n",
              "      <td>1.468087</td>\n",
              "      <td>0.084437</td>\n",
              "      <td>0.014786</td>\n",
              "      <td>0.449209</td>\n",
              "      <td>0.120582</td>\n",
              "      <td>0.030447</td>\n",
              "      <td>27.0</td>\n",
              "      <td>-0.449395</td>\n",
              "      <td>-0.120376</td>\n",
              "      <td>-0.030618</td>\n",
              "      <td>-1.526878</td>\n",
              "      <td>-0.108901</td>\n",
              "      <td>-0.017838</td>\n",
              "      <td>-0.505568</td>\n",
              "    </tr>\n",
              "    <tr>\n",
              "      <th>0</th>\n",
              "      <td>-1.419567</td>\n",
              "      <td>-0.085859</td>\n",
              "      <td>-0.021610</td>\n",
              "      <td>19.492854</td>\n",
              "      <td>1.733913</td>\n",
              "      <td>1.405953</td>\n",
              "      <td>0.073481</td>\n",
              "      <td>0.021631</td>\n",
              "      <td>0.618209</td>\n",
              "      <td>0.109016</td>\n",
              "      <td>-0.068107</td>\n",
              "      <td>27.0</td>\n",
              "      <td>-0.618327</td>\n",
              "      <td>-0.108886</td>\n",
              "      <td>0.068148</td>\n",
              "      <td>-1.481712</td>\n",
              "      <td>-0.096803</td>\n",
              "      <td>-0.014761</td>\n",
              "      <td>-0.644755</td>\n",
              "    </tr>\n",
              "    <tr>\n",
              "      <th>0</th>\n",
              "      <td>-1.399296</td>\n",
              "      <td>-0.110872</td>\n",
              "      <td>-0.017601</td>\n",
              "      <td>19.351571</td>\n",
              "      <td>1.713411</td>\n",
              "      <td>1.385692</td>\n",
              "      <td>0.098483</td>\n",
              "      <td>0.017623</td>\n",
              "      <td>0.201597</td>\n",
              "      <td>-0.248766</td>\n",
              "      <td>0.039882</td>\n",
              "      <td>28.0</td>\n",
              "      <td>-0.201692</td>\n",
              "      <td>0.248871</td>\n",
              "      <td>-0.039894</td>\n",
              "      <td>-1.419567</td>\n",
              "      <td>-0.085859</td>\n",
              "      <td>-0.021610</td>\n",
              "      <td>-0.228899</td>\n",
              "    </tr>\n",
              "  </tbody>\n",
              "</table>\n",
              "</div>"
            ],
            "text/plain": [
              "          vx        vy        vz  ...  vy_lag_1  vz_lag_1   pred_ax\n",
              "id                                ...                              \n",
              "0  -1.540062 -0.089823 -0.004110  ... -0.096249 -0.000290 -0.768457\n",
              "0  -1.526878 -0.108901 -0.017838  ... -0.089823 -0.004110 -0.180218\n",
              "0  -1.481712 -0.096803 -0.014761  ... -0.108901 -0.017838 -0.505568\n",
              "0  -1.419567 -0.085859 -0.021610  ... -0.096803 -0.014761 -0.644755\n",
              "0  -1.399296 -0.110872 -0.017601  ... -0.085859 -0.021610 -0.228899\n",
              "\n",
              "[5 rows x 19 columns]"
            ]
          },
          "metadata": {
            "tags": []
          },
          "execution_count": 16
        }
      ]
    },
    {
      "cell_type": "code",
      "metadata": {
        "id": "65NJOS0kz8pi",
        "colab_type": "code",
        "colab": {
          "base_uri": "https://localhost:8080/",
          "height": 356
        },
        "outputId": "f573a4dd-c5c8-487f-a692-d2d6b206268f"
      },
      "source": [
        "import matplotlib.pyplot as plt\n",
        "\n",
        "sub_test = test.loc[0]\n",
        "\n",
        "sub_test = sub_test.reset_index()\n",
        "\n",
        "# Plot the forecast with the actuals\n",
        "f, ax = plt.subplots(1)\n",
        "\n",
        "f.set_figheight(5)\n",
        "f.set_figwidth(15)\n",
        "_ = sub_test[['ax', 'pred_ax']].plot(ax=ax, style=['-','.'])\n",
        "plot = plt.suptitle(\"Baseline lag:['vx', 'vy', 'vz'] prev_n = 1 test_sampe #0\")"
      ],
      "execution_count": 28,
      "outputs": [
        {
          "output_type": "display_data",
          "data": {
            "image/png": "[encoded data removed]",
            "text/plain": [
              "<Figure size 1080x360 with 1 Axes>"
            ]
          },
          "metadata": {
            "tags": []
          }
        }
      ]
    }
  ]
}