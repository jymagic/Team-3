{
 "cells": [
  {
   "cell_type": "code",
   "execution_count": 65,
   "metadata": {},
   "outputs": [],
   "source": [
    "import pandas as pd\n",
    "import keras\n",
    "from keras.layers import Conv1D\n",
    "from keras.layers import Dense\n",
    "from keras.optimizers import SGD\n",
    "from keras.layers import Flatten\n",
    "from sklearn.metrics import mean_absolute_error\n",
    "from sklearn.model_selection import train_test_split\n",
    "from sklearn.compose import make_column_transformer\n",
    "from sklearn.preprocessing import StandardScaler\n",
    "from sklearn.pipeline import make_pipeline\n",
    "from keras.models import Sequential\n",
    "from keras.layers import Dense\n",
    "from keras.layers import MaxPooling2D\n",
    "from keras.layers import Dropout\n",
    "from keras.layers import LSTM"
   ]
  },
  {
   "cell_type": "code",
   "execution_count": 35,
   "metadata": {},
   "outputs": [],
   "source": [
    "train = pd.read_csv('../data/acc_data/training_large.csv')#,header = None)\n",
    "test = pd.read_csv('../data/acc_data/validation_large.csv')#,header = None)"
   ]
  },
  {
   "cell_type": "code",
   "execution_count": 36,
   "metadata": {},
   "outputs": [
    {
     "data": {
      "text/html": [
       "<div>\n",
       "<style scoped>\n",
       "    .dataframe tbody tr th:only-of-type {\n",
       "        vertical-align: middle;\n",
       "    }\n",
       "\n",
       "    .dataframe tbody tr th {\n",
       "        vertical-align: top;\n",
       "    }\n",
       "\n",
       "    .dataframe thead th {\n",
       "        text-align: right;\n",
       "    }\n",
       "</style>\n",
       "<table border=\"1\" class=\"dataframe\">\n",
       "  <thead>\n",
       "    <tr style=\"text-align: right;\">\n",
       "      <th></th>\n",
       "      <th>vx</th>\n",
       "      <th>vy</th>\n",
       "      <th>vz</th>\n",
       "      <th>dx</th>\n",
       "      <th>dy</th>\n",
       "      <th>vfx</th>\n",
       "      <th>vfy</th>\n",
       "      <th>vfz</th>\n",
       "      <th>afx</th>\n",
       "      <th>afy</th>\n",
       "      <th>...</th>\n",
       "      <th>num_v_labels</th>\n",
       "      <th>ax</th>\n",
       "      <th>ay</th>\n",
       "      <th>az</th>\n",
       "      <th>vx_lag_1</th>\n",
       "      <th>vy_lag_1</th>\n",
       "      <th>vz_lag_1</th>\n",
       "      <th>vx_lag_2</th>\n",
       "      <th>vy_lag_2</th>\n",
       "      <th>vz_lag_2</th>\n",
       "    </tr>\n",
       "  </thead>\n",
       "  <tbody>\n",
       "    <tr>\n",
       "      <th>0</th>\n",
       "      <td>-10.738884</td>\n",
       "      <td>-2.270775</td>\n",
       "      <td>-0.017484</td>\n",
       "      <td>0.0</td>\n",
       "      <td>0.0</td>\n",
       "      <td>0.0</td>\n",
       "      <td>0.0</td>\n",
       "      <td>0.0</td>\n",
       "      <td>0.0</td>\n",
       "      <td>0.0</td>\n",
       "      <td>...</td>\n",
       "      <td>7.0</td>\n",
       "      <td>-0.370861</td>\n",
       "      <td>0.324686</td>\n",
       "      <td>0.063559</td>\n",
       "      <td>-10.776157</td>\n",
       "      <td>-2.238142</td>\n",
       "      <td>-0.011096</td>\n",
       "      <td>-10.822652</td>\n",
       "      <td>-2.210152</td>\n",
       "      <td>-0.011221</td>\n",
       "    </tr>\n",
       "    <tr>\n",
       "      <th>1</th>\n",
       "      <td>-10.702093</td>\n",
       "      <td>-2.299289</td>\n",
       "      <td>-0.027242</td>\n",
       "      <td>0.0</td>\n",
       "      <td>0.0</td>\n",
       "      <td>0.0</td>\n",
       "      <td>0.0</td>\n",
       "      <td>0.0</td>\n",
       "      <td>0.0</td>\n",
       "      <td>0.0</td>\n",
       "      <td>...</td>\n",
       "      <td>7.0</td>\n",
       "      <td>-0.366060</td>\n",
       "      <td>0.283704</td>\n",
       "      <td>0.097093</td>\n",
       "      <td>-10.738884</td>\n",
       "      <td>-2.270775</td>\n",
       "      <td>-0.017484</td>\n",
       "      <td>-10.776157</td>\n",
       "      <td>-2.238142</td>\n",
       "      <td>-0.011096</td>\n",
       "    </tr>\n",
       "    <tr>\n",
       "      <th>2</th>\n",
       "      <td>-10.649046</td>\n",
       "      <td>-2.326863</td>\n",
       "      <td>-0.015441</td>\n",
       "      <td>0.0</td>\n",
       "      <td>0.0</td>\n",
       "      <td>0.0</td>\n",
       "      <td>0.0</td>\n",
       "      <td>0.0</td>\n",
       "      <td>0.0</td>\n",
       "      <td>0.0</td>\n",
       "      <td>...</td>\n",
       "      <td>7.0</td>\n",
       "      <td>-0.527806</td>\n",
       "      <td>0.274360</td>\n",
       "      <td>-0.117417</td>\n",
       "      <td>-10.702093</td>\n",
       "      <td>-2.299289</td>\n",
       "      <td>-0.027242</td>\n",
       "      <td>-10.738884</td>\n",
       "      <td>-2.270775</td>\n",
       "      <td>-0.017484</td>\n",
       "    </tr>\n",
       "    <tr>\n",
       "      <th>3</th>\n",
       "      <td>-10.598294</td>\n",
       "      <td>-2.345125</td>\n",
       "      <td>-0.018072</td>\n",
       "      <td>0.0</td>\n",
       "      <td>0.0</td>\n",
       "      <td>0.0</td>\n",
       "      <td>0.0</td>\n",
       "      <td>0.0</td>\n",
       "      <td>0.0</td>\n",
       "      <td>0.0</td>\n",
       "      <td>...</td>\n",
       "      <td>7.0</td>\n",
       "      <td>-0.504967</td>\n",
       "      <td>0.181704</td>\n",
       "      <td>0.026169</td>\n",
       "      <td>-10.649046</td>\n",
       "      <td>-2.326863</td>\n",
       "      <td>-0.015441</td>\n",
       "      <td>-10.702093</td>\n",
       "      <td>-2.299289</td>\n",
       "      <td>-0.027242</td>\n",
       "    </tr>\n",
       "    <tr>\n",
       "      <th>4</th>\n",
       "      <td>-10.558764</td>\n",
       "      <td>-2.369425</td>\n",
       "      <td>-0.021834</td>\n",
       "      <td>0.0</td>\n",
       "      <td>0.0</td>\n",
       "      <td>0.0</td>\n",
       "      <td>0.0</td>\n",
       "      <td>0.0</td>\n",
       "      <td>0.0</td>\n",
       "      <td>0.0</td>\n",
       "      <td>...</td>\n",
       "      <td>7.0</td>\n",
       "      <td>-0.393321</td>\n",
       "      <td>0.241773</td>\n",
       "      <td>0.037435</td>\n",
       "      <td>-10.598294</td>\n",
       "      <td>-2.345125</td>\n",
       "      <td>-0.018072</td>\n",
       "      <td>-10.649046</td>\n",
       "      <td>-2.326863</td>\n",
       "      <td>-0.015441</td>\n",
       "    </tr>\n",
       "  </tbody>\n",
       "</table>\n",
       "<p>5 rows × 21 columns</p>\n",
       "</div>"
      ],
      "text/plain": [
       "          vx        vy        vz   dx   dy  vfx  vfy  vfz  afx  afy  ...  \\\n",
       "0 -10.738884 -2.270775 -0.017484  0.0  0.0  0.0  0.0  0.0  0.0  0.0  ...   \n",
       "1 -10.702093 -2.299289 -0.027242  0.0  0.0  0.0  0.0  0.0  0.0  0.0  ...   \n",
       "2 -10.649046 -2.326863 -0.015441  0.0  0.0  0.0  0.0  0.0  0.0  0.0  ...   \n",
       "3 -10.598294 -2.345125 -0.018072  0.0  0.0  0.0  0.0  0.0  0.0  0.0  ...   \n",
       "4 -10.558764 -2.369425 -0.021834  0.0  0.0  0.0  0.0  0.0  0.0  0.0  ...   \n",
       "\n",
       "   num_v_labels        ax        ay        az   vx_lag_1  vy_lag_1  vz_lag_1  \\\n",
       "0           7.0 -0.370861  0.324686  0.063559 -10.776157 -2.238142 -0.011096   \n",
       "1           7.0 -0.366060  0.283704  0.097093 -10.738884 -2.270775 -0.017484   \n",
       "2           7.0 -0.527806  0.274360 -0.117417 -10.702093 -2.299289 -0.027242   \n",
       "3           7.0 -0.504967  0.181704  0.026169 -10.649046 -2.326863 -0.015441   \n",
       "4           7.0 -0.393321  0.241773  0.037435 -10.598294 -2.345125 -0.018072   \n",
       "\n",
       "    vx_lag_2  vy_lag_2  vz_lag_2  \n",
       "0 -10.822652 -2.210152 -0.011221  \n",
       "1 -10.776157 -2.238142 -0.011096  \n",
       "2 -10.738884 -2.270775 -0.017484  \n",
       "3 -10.702093 -2.299289 -0.027242  \n",
       "4 -10.649046 -2.326863 -0.015441  \n",
       "\n",
       "[5 rows x 21 columns]"
      ]
     },
     "execution_count": 36,
     "metadata": {},
     "output_type": "execute_result"
    }
   ],
   "source": [
    "train.head()"
   ]
  },
  {
   "cell_type": "code",
   "execution_count": 75,
   "metadata": {},
   "outputs": [],
   "source": [
    "X = train.loc[:,['vx', 'vy', 'vz', 'dx', 'dy', 'vfx', 'vfy', 'vfz', 'afx', 'afy', 'afz', 'num_v_labels',\n",
    "                 'vx_lag_1','vy_lag_1','vz_lag_1','vx_lag_2','vy_lag_2','vz_lag_2']]\n",
    "y = train.loc[:,['ax','ay']].values \n",
    "X_train, X_test, y_train, y_test = train_test_split(X, y)\n",
    "X_val = test.loc[:,['vx', 'vy', 'vz', 'dx', 'dy', 'vfx', 'vfy', 'vfz', 'afx', 'afy', 'afz', 'num_v_labels',\n",
    "                    'vx_lag_1','vy_lag_1','vz_lag_1','vx_lag_2','vy_lag_2','vz_lag_2']]\n",
    "y_val = test.loc[:, ['ax','ay']].values"
   ]
  },
  {
   "cell_type": "markdown",
   "metadata": {},
   "source": [
    "##### Feedfordward NN"
   ]
  },
  {
   "cell_type": "code",
   "execution_count": 59,
   "metadata": {},
   "outputs": [
    {
     "name": "stdout",
     "output_type": "stream",
     "text": [
      "Model: \"sequential_20\"\n",
      "_________________________________________________________________\n",
      "Layer (type)                 Output Shape              Param #   \n",
      "=================================================================\n",
      "dense_66 (Dense)             (None, 64)                1216      \n",
      "_________________________________________________________________\n",
      "dropout_25 (Dropout)         (None, 64)                0         \n",
      "_________________________________________________________________\n",
      "dense_67 (Dense)             (None, 32)                2080      \n",
      "_________________________________________________________________\n",
      "dropout_26 (Dropout)         (None, 32)                0         \n",
      "_________________________________________________________________\n",
      "dense_68 (Dense)             (None, 32)                1056      \n",
      "_________________________________________________________________\n",
      "dense_69 (Dense)             (None, 16)                528       \n",
      "_________________________________________________________________\n",
      "dense_70 (Dense)             (None, 8)                 136       \n",
      "_________________________________________________________________\n",
      "dense_71 (Dense)             (None, 2)                 18        \n",
      "=================================================================\n",
      "Total params: 5,034\n",
      "Trainable params: 5,034\n",
      "Non-trainable params: 0\n",
      "_________________________________________________________________\n",
      "None\n"
     ]
    }
   ],
   "source": [
    "model = Sequential()\n",
    "model.add(Dense(64, input_dim=18, activation='relu'))\n",
    "model.add(Dropout(0.2))\n",
    "model.add(Dense(32, activation='relu'))\n",
    "model.add(Dropout(0.2))\n",
    "model.add(Dense(32, activation='relu'))\n",
    "model.add(Dense(16, activation='relu'))\n",
    "model.add(Dense(8, activation='relu'))\n",
    "model.add(Dense(2, activation='sigmoid'))\n",
    "epochs = 10\n",
    "lrate = 0.01\n",
    "decay = lrate/epochs\n",
    "model.compile(loss='mean_absolute_error', optimizer='adam', metrics = ['mae'])\n",
    "print(model.summary())"
   ]
  },
  {
   "cell_type": "code",
   "execution_count": 60,
   "metadata": {},
   "outputs": [
    {
     "name": "stdout",
     "output_type": "stream",
     "text": [
      "Epoch 1/10\n",
      "115778/115778 [==============================] - 4s 39us/step - loss: 0.3627 - mae: 0.3627\n",
      "Epoch 2/10\n",
      "115778/115778 [==============================] - 4s 37us/step - loss: 0.3616 - mae: 0.3616\n",
      "Epoch 3/10\n",
      "115778/115778 [==============================] - 4s 37us/step - loss: 0.3563 - mae: 0.3563\n",
      "Epoch 4/10\n",
      "115778/115778 [==============================] - 4s 37us/step - loss: 0.3526 - mae: 0.3526\n",
      "Epoch 5/10\n",
      "115778/115778 [==============================] - 4s 37us/step - loss: 0.3489 - mae: 0.3489\n",
      "Epoch 6/10\n",
      "115778/115778 [==============================] - 4s 37us/step - loss: 0.3431 - mae: 0.3431\n",
      "Epoch 7/10\n",
      "115778/115778 [==============================] - 4s 37us/step - loss: 0.3398 - mae: 0.3398\n",
      "Epoch 8/10\n",
      "115778/115778 [==============================] - 4s 37us/step - loss: 0.3370 - mae: 0.3370\n",
      "Epoch 9/10\n",
      "115778/115778 [==============================] - 4s 37us/step - loss: 0.3340 - mae: 0.3340\n",
      "Epoch 10/10\n",
      "115778/115778 [==============================] - 4s 38us/step - loss: 0.3326 - mae: 0.3326\n"
     ]
    },
    {
     "data": {
      "text/plain": [
       "<keras.callbacks.callbacks.History at 0x28850eeffd0>"
      ]
     },
     "execution_count": 60,
     "metadata": {},
     "output_type": "execute_result"
    }
   ],
   "source": [
    "model.fit(X_train,y_train,epochs = epochs)"
   ]
  },
  {
   "cell_type": "code",
   "execution_count": 61,
   "metadata": {},
   "outputs": [
    {
     "name": "stdout",
     "output_type": "stream",
     "text": [
      "38593/38593 [==============================] - 1s 16us/step\n",
      "MAE: 0.32\n"
     ]
    }
   ],
   "source": [
    "_, mae = model.evaluate(X_test, y_test)\n",
    "print('MAE: %.2f' % (mae))"
   ]
  },
  {
   "cell_type": "code",
   "execution_count": 63,
   "metadata": {},
   "outputs": [],
   "source": [
    "y_pred = model.predict(X_val)"
   ]
  },
  {
   "cell_type": "code",
   "execution_count": 66,
   "metadata": {},
   "outputs": [
    {
     "name": "stdout",
     "output_type": "stream",
     "text": [
      "MAE: 0.3532543465275578\n"
     ]
    }
   ],
   "source": [
    "print(\"MAE:\", mean_absolute_error(y_val,y_pred))"
   ]
  },
  {
   "cell_type": "markdown",
   "metadata": {},
   "source": [
    "##### LSTM NN (Not ready)"
   ]
  },
  {
   "cell_type": "code",
   "execution_count": 77,
   "metadata": {},
   "outputs": [
    {
     "name": "stderr",
     "output_type": "stream",
     "text": [
      "C:\\Users\\19296\\Anaconda3\\lib\\site-packages\\ipykernel_launcher.py:3: UserWarning: The `input_dim` and `input_length` arguments in recurrent layers are deprecated. Use `input_shape` instead.\n",
      "  This is separate from the ipykernel package so we can avoid doing imports until\n",
      "C:\\Users\\19296\\Anaconda3\\lib\\site-packages\\ipykernel_launcher.py:3: UserWarning: Update your `LSTM` call to the Keras 2 API: `LSTM(128, return_sequences=True, dropout=0.25, recurrent_dropout=0.1, input_shape=(None, 18))`\n",
      "  This is separate from the ipykernel package so we can avoid doing imports until\n"
     ]
    },
    {
     "name": "stdout",
     "output_type": "stream",
     "text": [
      "Model: \"sequential_27\"\n",
      "_________________________________________________________________\n",
      "Layer (type)                 Output Shape              Param #   \n",
      "=================================================================\n",
      "lstm_3 (LSTM)                (None, None, 128)         75264     \n",
      "_________________________________________________________________\n",
      "dense_78 (Dense)             (None, None, 64)          8256      \n",
      "_________________________________________________________________\n",
      "lstm_4 (LSTM)                (None, None, 32)          12416     \n",
      "_________________________________________________________________\n",
      "lstm_5 (LSTM)                (None, 16)                3136      \n",
      "_________________________________________________________________\n",
      "dense_79 (Dense)             (None, 2)                 34        \n",
      "=================================================================\n",
      "Total params: 99,106\n",
      "Trainable params: 99,106\n",
      "Non-trainable params: 0\n",
      "_________________________________________________________________\n",
      "None\n"
     ]
    }
   ],
   "source": [
    "model = keras.Sequential()\n",
    "#model.add(Dense(128, input_dim=18, activation='relu'))\n",
    "model.add(LSTM(128,return_sequences=True, input_dim = 18, dropout=0.25,recurrent_dropout=0.1))\n",
    "model.add(Dense(64, activation='relu'))\n",
    "model.add(LSTM(32, return_sequences=True, dropout=0.25,recurrent_dropout=0.1))\n",
    "model.add(LSTM(16, return_sequences=False, dropout=0.25,recurrent_dropout=0.1))\n",
    "model.add(Dense(2, activation='sigmoid'))\n",
    "epochs = 10\n",
    "lrate = 0.01\n",
    "decay = lrate/epochs\n",
    "model.compile(loss='mean_absolute_error', optimizer='adam', metrics = ['mae'])\n",
    "print(model.summary())"
   ]
  }
 ],
 "metadata": {
  "kernelspec": {
   "display_name": "Python 3",
   "language": "python",
   "name": "python3"
  },
  "language_info": {
   "codemirror_mode": {
    "name": "ipython",
    "version": 3
   },
   "file_extension": ".py",
   "mimetype": "text/x-python",
   "name": "python",
   "nbconvert_exporter": "python",
   "pygments_lexer": "ipython3",
   "version": "3.7.3"
  }
 },
 "nbformat": 4,
 "nbformat_minor": 4
}
