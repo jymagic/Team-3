{
 "cells": [
  {
   "cell_type": "code",
   "execution_count": 5,
   "metadata": {},
   "outputs": [],
   "source": [
    "import pandas as pd\n",
    "import keras\n",
    "from keras.layers import Conv1D\n",
    "from keras.layers import Dense\n",
    "from keras.optimizers import SGD\n",
    "from keras.layers import Flatten\n",
    "from sklearn.model_selection import train_test_split\n",
    "from sklearn.compose import make_column_transformer\n",
    "from sklearn.preprocessing import StandardScaler\n",
    "from sklearn.pipeline import make_pipeline\n",
    "from keras.models import Sequential\n",
    "from keras.layers import Dense"
   ]
  },
  {
   "cell_type": "code",
   "execution_count": 6,
   "metadata": {},
   "outputs": [],
   "source": [
    "train = pd.read_csv('../data/acc_data/training_data.csv',header = None)"
   ]
  },
  {
   "cell_type": "code",
   "execution_count": 7,
   "metadata": {},
   "outputs": [
    {
     "data": {
      "text/html": [
       "<div>\n",
       "<style scoped>\n",
       "    .dataframe tbody tr th:only-of-type {\n",
       "        vertical-align: middle;\n",
       "    }\n",
       "\n",
       "    .dataframe tbody tr th {\n",
       "        vertical-align: top;\n",
       "    }\n",
       "\n",
       "    .dataframe thead th {\n",
       "        text-align: right;\n",
       "    }\n",
       "</style>\n",
       "<table border=\"1\" class=\"dataframe\">\n",
       "  <thead>\n",
       "    <tr style=\"text-align: right;\">\n",
       "      <th></th>\n",
       "      <th>0</th>\n",
       "      <th>1</th>\n",
       "      <th>2</th>\n",
       "      <th>3</th>\n",
       "      <th>4</th>\n",
       "      <th>5</th>\n",
       "      <th>6</th>\n",
       "      <th>7</th>\n",
       "      <th>8</th>\n",
       "      <th>9</th>\n",
       "      <th>10</th>\n",
       "      <th>11</th>\n",
       "      <th>12</th>\n",
       "      <th>13</th>\n",
       "    </tr>\n",
       "  </thead>\n",
       "  <tbody>\n",
       "    <tr>\n",
       "      <td>0</td>\n",
       "      <td>6.791859</td>\n",
       "      <td>13.960164</td>\n",
       "      <td>-0.193163</td>\n",
       "      <td>48.522705</td>\n",
       "      <td>-0.589755</td>\n",
       "      <td>-16.461533</td>\n",
       "      <td>-1.630623</td>\n",
       "      <td>0.330035</td>\n",
       "      <td>0.000000</td>\n",
       "      <td>0.000000</td>\n",
       "      <td>0.000000</td>\n",
       "      <td>0.000000</td>\n",
       "      <td>0.000000</td>\n",
       "      <td>0.000000</td>\n",
       "    </tr>\n",
       "    <tr>\n",
       "      <td>1</td>\n",
       "      <td>6.800353</td>\n",
       "      <td>13.996486</td>\n",
       "      <td>-0.190413</td>\n",
       "      <td>48.528838</td>\n",
       "      <td>-0.604140</td>\n",
       "      <td>-16.450406</td>\n",
       "      <td>-1.691989</td>\n",
       "      <td>0.298628</td>\n",
       "      <td>-0.110716</td>\n",
       "      <td>0.610561</td>\n",
       "      <td>0.312486</td>\n",
       "      <td>-0.084510</td>\n",
       "      <td>-0.361382</td>\n",
       "      <td>-0.027366</td>\n",
       "    </tr>\n",
       "    <tr>\n",
       "      <td>2</td>\n",
       "      <td>6.800085</td>\n",
       "      <td>14.002038</td>\n",
       "      <td>-0.174075</td>\n",
       "      <td>48.533003</td>\n",
       "      <td>-0.599635</td>\n",
       "      <td>-16.425717</td>\n",
       "      <td>-1.718877</td>\n",
       "      <td>0.251782</td>\n",
       "      <td>-0.245641</td>\n",
       "      <td>0.267517</td>\n",
       "      <td>0.466097</td>\n",
       "      <td>0.002662</td>\n",
       "      <td>-0.055242</td>\n",
       "      <td>-0.162555</td>\n",
       "    </tr>\n",
       "    <tr>\n",
       "      <td>3</td>\n",
       "      <td>6.800586</td>\n",
       "      <td>14.011322</td>\n",
       "      <td>-0.175465</td>\n",
       "      <td>48.535982</td>\n",
       "      <td>-0.576815</td>\n",
       "      <td>-16.399336</td>\n",
       "      <td>-1.747659</td>\n",
       "      <td>0.225503</td>\n",
       "      <td>-0.262477</td>\n",
       "      <td>0.286367</td>\n",
       "      <td>0.261464</td>\n",
       "      <td>-0.004982</td>\n",
       "      <td>-0.092371</td>\n",
       "      <td>0.013831</td>\n",
       "    </tr>\n",
       "    <tr>\n",
       "      <td>4</td>\n",
       "      <td>6.813845</td>\n",
       "      <td>14.013416</td>\n",
       "      <td>-0.177808</td>\n",
       "      <td>48.531692</td>\n",
       "      <td>-0.565499</td>\n",
       "      <td>-16.385513</td>\n",
       "      <td>-1.769202</td>\n",
       "      <td>0.216323</td>\n",
       "      <td>-0.137533</td>\n",
       "      <td>0.214349</td>\n",
       "      <td>0.091333</td>\n",
       "      <td>-0.131924</td>\n",
       "      <td>-0.020837</td>\n",
       "      <td>0.023308</td>\n",
       "    </tr>\n",
       "  </tbody>\n",
       "</table>\n",
       "</div>"
      ],
      "text/plain": [
       "         0          1         2          3         4          5         6   \\\n",
       "0  6.791859  13.960164 -0.193163  48.522705 -0.589755 -16.461533 -1.630623   \n",
       "1  6.800353  13.996486 -0.190413  48.528838 -0.604140 -16.450406 -1.691989   \n",
       "2  6.800085  14.002038 -0.174075  48.533003 -0.599635 -16.425717 -1.718877   \n",
       "3  6.800586  14.011322 -0.175465  48.535982 -0.576815 -16.399336 -1.747659   \n",
       "4  6.813845  14.013416 -0.177808  48.531692 -0.565499 -16.385513 -1.769202   \n",
       "\n",
       "         7         8         9         10        11        12        13  \n",
       "0  0.330035  0.000000  0.000000  0.000000  0.000000  0.000000  0.000000  \n",
       "1  0.298628 -0.110716  0.610561  0.312486 -0.084510 -0.361382 -0.027366  \n",
       "2  0.251782 -0.245641  0.267517  0.466097  0.002662 -0.055242 -0.162555  \n",
       "3  0.225503 -0.262477  0.286367  0.261464 -0.004982 -0.092371  0.013831  \n",
       "4  0.216323 -0.137533  0.214349  0.091333 -0.131924 -0.020837  0.023308  "
      ]
     },
     "execution_count": 7,
     "metadata": {},
     "output_type": "execute_result"
    }
   ],
   "source": [
    "train.head()"
   ]
  },
  {
   "cell_type": "code",
   "execution_count": 15,
   "metadata": {},
   "outputs": [],
   "source": [
    "X = train.loc[:,:10]\n",
    "y = train.loc[:,11:13]\n",
    "X_train, X_test, y_train, y_test = train_test_split(X, y)"
   ]
  },
  {
   "cell_type": "code",
   "execution_count": 19,
   "metadata": {},
   "outputs": [
    {
     "name": "stdout",
     "output_type": "stream",
     "text": [
      "Model: \"sequential_5\"\n",
      "_________________________________________________________________\n",
      "Layer (type)                 Output Shape              Param #   \n",
      "=================================================================\n",
      "dense_12 (Dense)             (None, 12)                144       \n",
      "_________________________________________________________________\n",
      "dense_13 (Dense)             (None, 8)                 104       \n",
      "_________________________________________________________________\n",
      "dense_14 (Dense)             (None, 8)                 72        \n",
      "_________________________________________________________________\n",
      "dense_15 (Dense)             (None, 3)                 27        \n",
      "=================================================================\n",
      "Total params: 347\n",
      "Trainable params: 347\n",
      "Non-trainable params: 0\n",
      "_________________________________________________________________\n",
      "None\n"
     ]
    }
   ],
   "source": [
    "model = Sequential()\n",
    "model.add(Dense(12, input_dim=11, activation='relu'))\n",
    "model.add(Dense(8, activation='relu'))\n",
    "model.add(Dense(8, activation='relu'))\n",
    "model.add(Dense(3, activation='sigmoid'))\n",
    "epochs = 10\n",
    "lrate = 0.01\n",
    "decay = lrate/epochs\n",
    "model.compile(loss='mean_absolute_error', optimizer='rmsprop', metrics = ['mae'])\n",
    "print(model.summary())"
   ]
  },
  {
   "cell_type": "code",
   "execution_count": 20,
   "metadata": {},
   "outputs": [
    {
     "name": "stdout",
     "output_type": "stream",
     "text": [
      "Epoch 1/10\n",
      "10767/10767 [==============================] - 1s 88us/step - loss: 0.2695 - mae: 0.2695\n",
      "Epoch 2/10\n",
      "10767/10767 [==============================] - 1s 70us/step - loss: 0.2496 - mae: 0.2496\n",
      "Epoch 3/10\n",
      "10767/10767 [==============================] - 1s 70us/step - loss: 0.2496 - mae: 0.2496\n",
      "Epoch 4/10\n",
      "10767/10767 [==============================] - 1s 55us/step - loss: 0.2496 - mae: 0.2496\n",
      "Epoch 5/10\n",
      "10767/10767 [==============================] - 1s 71us/step - loss: 0.2496 - mae: 0.2496\n",
      "Epoch 6/10\n",
      "10767/10767 [==============================] - 1s 71us/step - loss: 0.2496 - mae: 0.2496\n",
      "Epoch 7/10\n",
      "10767/10767 [==============================] - 1s 70us/step - loss: 0.2496 - mae: 0.2496\n",
      "Epoch 8/10\n",
      "10767/10767 [==============================] - 1s 76us/step - loss: 0.2496 - mae: 0.2496\n",
      "Epoch 9/10\n",
      "10767/10767 [==============================] - 1s 76us/step - loss: 0.2496 - mae: 0.2496\n",
      "Epoch 10/10\n",
      "10767/10767 [==============================] - 1s 70us/step - loss: 0.2496 - mae: 0.2496\n"
     ]
    },
    {
     "data": {
      "text/plain": [
       "<keras.callbacks.callbacks.History at 0x25c8523e748>"
      ]
     },
     "execution_count": 20,
     "metadata": {},
     "output_type": "execute_result"
    }
   ],
   "source": [
    "model.fit(X_train,y_train,epochs = epochs)"
   ]
  },
  {
   "cell_type": "code",
   "execution_count": 21,
   "metadata": {},
   "outputs": [
    {
     "name": "stdout",
     "output_type": "stream",
     "text": [
      "3590/3590 [==============================] - 0s 42us/step\n",
      "MAE: 0.26\n"
     ]
    }
   ],
   "source": [
    "_, mae = model.evaluate(X_test, y_test)\n",
    "print('MAE: %.2f' % (mae))"
   ]
  },
  {
   "cell_type": "code",
   "execution_count": null,
   "metadata": {},
   "outputs": [],
   "source": []
  }
 ],
 "metadata": {
  "kernelspec": {
   "display_name": "Python 3",
   "language": "python",
   "name": "python3"
  },
  "language_info": {
   "codemirror_mode": {
    "name": "ipython",
    "version": 3
   },
   "file_extension": ".py",
   "mimetype": "text/x-python",
   "name": "python",
   "nbconvert_exporter": "python",
   "pygments_lexer": "ipython3",
   "version": "3.6.9"
  }
 },
 "nbformat": 4,
 "nbformat_minor": 4
}
