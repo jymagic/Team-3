{
  "nbformat": 4,
  "nbformat_minor": 0,
  "metadata": {
    "kernelspec": {
      "display_name": "Python 3",
      "language": "python",
      "name": "python3"
    },
    "language_info": {
      "codemirror_mode": {
        "name": "ipython",
        "version": 3
      },
      "file_extension": ".py",
      "mimetype": "text/x-python",
      "name": "python",
      "nbconvert_exporter": "python",
      "pygments_lexer": "ipython3",
      "version": "3.6.9"
    },
    "colab": {
      "name": "acc_predictionsSL_w_testing.ipynb",
      "provenance": [],
      "toc_visible": true
    }
  },
  "cells": [
    {
      "cell_type": "code",
      "metadata": {
        "id": "m3TxrmfEopxH",
        "colab_type": "code",
        "colab": {}
      },
      "source": [
        "import pandas as pd\n",
        "import numpy as np\n",
        "import xgboost\n",
        "from lightgbm import LGBMRegressor\n",
        "from mlxtend.regressor import StackingRegressor\n",
        "from sklearn.linear_model import Lasso\n",
        "from sklearn.model_selection import train_test_split\n",
        "from sklearn.compose import make_column_transformer\n",
        "from sklearn.preprocessing import StandardScaler\n",
        "from sklearn.preprocessing import RobustScaler\n",
        "from sklearn.pipeline import make_pipeline\n",
        "from sklearn.model_selection import cross_val_score\n",
        "from sklearn.ensemble import GradientBoostingRegressor"
      ],
      "execution_count": 0,
      "outputs": []
    },
    {
      "cell_type": "code",
      "metadata": {
        "id": "AJmX8GJBopxO",
        "colab_type": "code",
        "colab": {}
      },
      "source": [
        "# Chelsea's path\n",
        "training_path='/content/training_data_1_12.csv'\n",
        "test_path='/content/validation_data_1_12.csv'\n",
        "\n",
        "train = pd.read_csv(training_path, header = 0)\n",
        "test = pd.read_csv(test_path, header = 0)"
      ],
      "execution_count": 0,
      "outputs": []
    },
    {
      "cell_type": "code",
      "metadata": {
        "id": "aUZFHBkcopxR",
        "colab_type": "code",
        "outputId": "dfdb11a9-64f3-4d6a-8eef-22f4c48cd15f",
        "colab": {
          "base_uri": "https://localhost:8080/",
          "height": 224
        }
      },
      "source": [
        "train.head()"
      ],
      "execution_count": 5,
      "outputs": [
        {
          "output_type": "execute_result",
          "data": {
            "text/html": [
              "<div>\n",
              "<style scoped>\n",
              "    .dataframe tbody tr th:only-of-type {\n",
              "        vertical-align: middle;\n",
              "    }\n",
              "\n",
              "    .dataframe tbody tr th {\n",
              "        vertical-align: top;\n",
              "    }\n",
              "\n",
              "    .dataframe thead th {\n",
              "        text-align: right;\n",
              "    }\n",
              "</style>\n",
              "<table border=\"1\" class=\"dataframe\">\n",
              "  <thead>\n",
              "    <tr style=\"text-align: right;\">\n",
              "      <th></th>\n",
              "      <th>vx</th>\n",
              "      <th>vy</th>\n",
              "      <th>vz</th>\n",
              "      <th>dx</th>\n",
              "      <th>dy</th>\n",
              "      <th>vfx</th>\n",
              "      <th>vfy</th>\n",
              "      <th>vfz</th>\n",
              "      <th>afx</th>\n",
              "      <th>afy</th>\n",
              "      <th>afz</th>\n",
              "      <th>num_v_labels</th>\n",
              "      <th>ax</th>\n",
              "      <th>ay</th>\n",
              "      <th>az</th>\n",
              "    </tr>\n",
              "  </thead>\n",
              "  <tbody>\n",
              "    <tr>\n",
              "      <th>0</th>\n",
              "      <td>6.792706</td>\n",
              "      <td>13.956196</td>\n",
              "      <td>-0.197240</td>\n",
              "      <td>48.522705</td>\n",
              "      <td>-0.589755</td>\n",
              "      <td>-16.459713</td>\n",
              "      <td>-1.624721</td>\n",
              "      <td>0.347638</td>\n",
              "      <td>0.000000</td>\n",
              "      <td>0.000000</td>\n",
              "      <td>0.000000</td>\n",
              "      <td>20.0</td>\n",
              "      <td>0.000000</td>\n",
              "      <td>0.000000</td>\n",
              "      <td>0.000000</td>\n",
              "    </tr>\n",
              "    <tr>\n",
              "      <th>1</th>\n",
              "      <td>6.797240</td>\n",
              "      <td>13.993150</td>\n",
              "      <td>-0.194239</td>\n",
              "      <td>48.528838</td>\n",
              "      <td>-0.604140</td>\n",
              "      <td>-16.445887</td>\n",
              "      <td>-1.687644</td>\n",
              "      <td>0.312599</td>\n",
              "      <td>-0.137566</td>\n",
              "      <td>0.626051</td>\n",
              "      <td>0.348616</td>\n",
              "      <td>20.0</td>\n",
              "      <td>-0.045113</td>\n",
              "      <td>-0.367673</td>\n",
              "      <td>-0.029864</td>\n",
              "    </tr>\n",
              "    <tr>\n",
              "      <th>2</th>\n",
              "      <td>6.793256</td>\n",
              "      <td>14.003455</td>\n",
              "      <td>-0.178358</td>\n",
              "      <td>48.533003</td>\n",
              "      <td>-0.599635</td>\n",
              "      <td>-16.419858</td>\n",
              "      <td>-1.721146</td>\n",
              "      <td>0.269505</td>\n",
              "      <td>-0.258971</td>\n",
              "      <td>0.333337</td>\n",
              "      <td>0.428770</td>\n",
              "      <td>21.0</td>\n",
              "      <td>0.039639</td>\n",
              "      <td>-0.102534</td>\n",
              "      <td>-0.158003</td>\n",
              "    </tr>\n",
              "    <tr>\n",
              "      <th>3</th>\n",
              "      <td>6.800904</td>\n",
              "      <td>14.004451</td>\n",
              "      <td>-0.168657</td>\n",
              "      <td>48.535982</td>\n",
              "      <td>-0.576815</td>\n",
              "      <td>-16.401916</td>\n",
              "      <td>-1.742591</td>\n",
              "      <td>0.226056</td>\n",
              "      <td>-0.178512</td>\n",
              "      <td>0.213361</td>\n",
              "      <td>0.432287</td>\n",
              "      <td>22.0</td>\n",
              "      <td>-0.076089</td>\n",
              "      <td>-0.009906</td>\n",
              "      <td>-0.096522</td>\n",
              "    </tr>\n",
              "    <tr>\n",
              "      <th>4</th>\n",
              "      <td>6.812319</td>\n",
              "      <td>14.013153</td>\n",
              "      <td>-0.179739</td>\n",
              "      <td>48.531692</td>\n",
              "      <td>-0.565499</td>\n",
              "      <td>-16.386284</td>\n",
              "      <td>-1.770749</td>\n",
              "      <td>0.222269</td>\n",
              "      <td>-0.155528</td>\n",
              "      <td>0.280159</td>\n",
              "      <td>0.037679</td>\n",
              "      <td>22.0</td>\n",
              "      <td>-0.113578</td>\n",
              "      <td>-0.086583</td>\n",
              "      <td>0.110262</td>\n",
              "    </tr>\n",
              "  </tbody>\n",
              "</table>\n",
              "</div>"
            ],
            "text/plain": [
              "         vx         vy        vz  ...        ax        ay        az\n",
              "0  6.792706  13.956196 -0.197240  ...  0.000000  0.000000  0.000000\n",
              "1  6.797240  13.993150 -0.194239  ... -0.045113 -0.367673 -0.029864\n",
              "2  6.793256  14.003455 -0.178358  ...  0.039639 -0.102534 -0.158003\n",
              "3  6.800904  14.004451 -0.168657  ... -0.076089 -0.009906 -0.096522\n",
              "4  6.812319  14.013153 -0.179739  ... -0.113578 -0.086583  0.110262\n",
              "\n",
              "[5 rows x 15 columns]"
            ]
          },
          "metadata": {
            "tags": []
          },
          "execution_count": 5
        }
      ]
    },
    {
      "cell_type": "code",
      "metadata": {
        "id": "gxsSczCYopxV",
        "colab_type": "code",
        "colab": {
          "base_uri": "https://localhost:8080/",
          "height": 85
        },
        "outputId": "bb791328-feec-4bf4-c60f-bba7309902f9"
      },
      "source": [
        "X = train.loc[:,['vx', 'vy', 'vz', 'dx', 'dy', 'vfx', 'vfy', 'vfz', 'afx', 'afy', 'afz', 'num_v_labels']]\n",
        "Y_ax = train.loc[:,['ax']].values.ravel() # flatten to 1d array\n",
        "Y_ay = train.loc[:,['ay']].values.ravel()\n",
        "\n",
        "# y = Y_ax\n",
        "X_train_ax, X_test_ax, y_train_ax, y_test_ax = train_test_split(X, Y_ax)\n",
        "X_train_ay, X_test_ay, y_train_ay, y_test_ay = train_test_split(X, Y_ay)\n",
        "\n",
        "X_test = test.loc[:,['vx', 'vy', 'vz', 'dx', 'dy', 'vfx', 'vfy', 'vfz', 'afx', 'afy', 'afz', 'num_v_labels']]\n",
        "Y_test_ax = test.loc[:, ['ax']].values.ravel()\n",
        "Y_test_ay = test.loc[:, ['ay']].values.ravel()\n",
        "\n",
        "print(\"X_train_ax shape: {}, X_test_ax shape:{}\".format(X_train_ax.shape, X_test_ax.shape))\n",
        "print(\"y_train_ax shape: {}, y_test_ax shape:{}\".format(y_train_ax.shape, y_test_ax.shape))\n",
        "\n",
        "print(\"X_train_ay shape: {}, X_test_ay shape:{}\".format(X_train_ay.shape, X_test_ay.shape))\n",
        "print(\"y_train_ay shape: {}, y_test_ay shape:{}\".format(y_train_ay.shape, y_test_ay.shape))\n"
      ],
      "execution_count": 7,
      "outputs": [
        {
          "output_type": "stream",
          "text": [
            "X_train_ax shape: (13240, 12), X_test_ax shape:(4414, 12)\n",
            "y_train_ax shape: (13240,), y_test_ax shape:(4414,)\n",
            "X_train_ay shape: (13240, 12), X_test_ay shape:(4414, 12)\n",
            "y_train_ay shape: (13240,), y_test_ay shape:(4414,)\n"
          ],
          "name": "stdout"
        }
      ]
    },
    {
      "cell_type": "markdown",
      "metadata": {
        "id": "VWXo2EAIegLs",
        "colab_type": "text"
      },
      "source": [
        "# Cross validation"
      ]
    },
    {
      "cell_type": "markdown",
      "metadata": {
        "id": "-MokgllVopxs",
        "colab_type": "text"
      },
      "source": [
        "#### Baseline "
      ]
    },
    {
      "cell_type": "code",
      "metadata": {
        "id": "RudtmB8gopxu",
        "colab_type": "code",
        "outputId": "0ef94a59-d7c1-4e98-aaae-e035c658d236",
        "colab": {
          "base_uri": "https://localhost:8080/",
          "height": 85
        }
      },
      "source": [
        "model_XGB_ax = make_pipeline(StandardScaler(), xgboost.XGBRegressor(gamma=0.05,learning_rate=0.05, max_depth=3,\n",
        "                                            n_estimators=2500,reg_alpha=0.5, reg_lambda=0.85))\n",
        "print(' Extreme Gradient Boosting score wrt ax is: ' ,-np.mean(cross_val_score(model_XGB_ax,X_train_ax,y_train_ax, scoring='neg_median_absolute_error', cv = 5, n_jobs = -1)),'\\n')\n",
        "\n",
        "model_XGB_ay = make_pipeline(StandardScaler(), xgboost.XGBRegressor(gamma=0.05,learning_rate=0.05, may_depth=3,\n",
        "                                            n_estimators=2500,reg_alpha=0.5, reg_lambda=0.85))\n",
        "print(' Extreme Gradient Boosting score wrt ay is: ' ,-np.mean(cross_val_score(model_XGB_ay,X_train_ay,y_train_ay, scoring='neg_median_absolute_error', cv = 5, n_jobs = -1)),'\\n')"
      ],
      "execution_count": 9,
      "outputs": [
        {
          "output_type": "stream",
          "text": [
            " Extreme Gradient Boosting score wrt ax is:  0.07232612804085899 \n",
            "\n",
            " Extreme Gradient Boosting score wrt ay is:  0.06316856767965322 \n",
            "\n"
          ],
          "name": "stdout"
        }
      ]
    },
    {
      "cell_type": "markdown",
      "metadata": {
        "id": "eYubRqPNopxw",
        "colab_type": "text"
      },
      "source": [
        "#### Improved model"
      ]
    },
    {
      "cell_type": "code",
      "metadata": {
        "id": "sj0l8_FGopxx",
        "colab_type": "code",
        "outputId": "fe885635-fafd-426f-c411-7760b623b4fe",
        "colab": {
          "base_uri": "https://localhost:8080/",
          "height": 317
        }
      },
      "source": [
        "train.describe()"
      ],
      "execution_count": 10,
      "outputs": [
        {
          "output_type": "execute_result",
          "data": {
            "text/html": [
              "<div>\n",
              "<style scoped>\n",
              "    .dataframe tbody tr th:only-of-type {\n",
              "        vertical-align: middle;\n",
              "    }\n",
              "\n",
              "    .dataframe tbody tr th {\n",
              "        vertical-align: top;\n",
              "    }\n",
              "\n",
              "    .dataframe thead th {\n",
              "        text-align: right;\n",
              "    }\n",
              "</style>\n",
              "<table border=\"1\" class=\"dataframe\">\n",
              "  <thead>\n",
              "    <tr style=\"text-align: right;\">\n",
              "      <th></th>\n",
              "      <th>vx</th>\n",
              "      <th>vy</th>\n",
              "      <th>vz</th>\n",
              "      <th>dx</th>\n",
              "      <th>dy</th>\n",
              "      <th>vfx</th>\n",
              "      <th>vfy</th>\n",
              "      <th>vfz</th>\n",
              "      <th>afx</th>\n",
              "      <th>afy</th>\n",
              "      <th>afz</th>\n",
              "      <th>num_v_labels</th>\n",
              "      <th>ax</th>\n",
              "      <th>ay</th>\n",
              "      <th>az</th>\n",
              "    </tr>\n",
              "  </thead>\n",
              "  <tbody>\n",
              "    <tr>\n",
              "      <th>count</th>\n",
              "      <td>17654.000000</td>\n",
              "      <td>17654.000000</td>\n",
              "      <td>17654.000000</td>\n",
              "      <td>17654.000000</td>\n",
              "      <td>17654.000000</td>\n",
              "      <td>1.765400e+04</td>\n",
              "      <td>17654.000000</td>\n",
              "      <td>17654.000000</td>\n",
              "      <td>17654.000000</td>\n",
              "      <td>17654.000000</td>\n",
              "      <td>17654.000000</td>\n",
              "      <td>17654.00000</td>\n",
              "      <td>17654.000000</td>\n",
              "      <td>17654.000000</td>\n",
              "      <td>17654.000000</td>\n",
              "    </tr>\n",
              "    <tr>\n",
              "      <th>mean</th>\n",
              "      <td>0.895922</td>\n",
              "      <td>0.512241</td>\n",
              "      <td>-0.027057</td>\n",
              "      <td>19.094545</td>\n",
              "      <td>-0.030745</td>\n",
              "      <td>-6.444828e-01</td>\n",
              "      <td>-0.463074</td>\n",
              "      <td>0.022544</td>\n",
              "      <td>-0.042441</td>\n",
              "      <td>0.003143</td>\n",
              "      <td>0.001510</td>\n",
              "      <td>40.00929</td>\n",
              "      <td>0.026266</td>\n",
              "      <td>0.000088</td>\n",
              "      <td>-0.000867</td>\n",
              "    </tr>\n",
              "    <tr>\n",
              "      <th>std</th>\n",
              "      <td>4.180982</td>\n",
              "      <td>4.017711</td>\n",
              "      <td>0.225891</td>\n",
              "      <td>15.604483</td>\n",
              "      <td>0.652574</td>\n",
              "      <td>5.141496e+00</td>\n",
              "      <td>3.445494</td>\n",
              "      <td>0.180760</td>\n",
              "      <td>3.282429</td>\n",
              "      <td>4.250110</td>\n",
              "      <td>0.289947</td>\n",
              "      <td>22.87581</td>\n",
              "      <td>0.452855</td>\n",
              "      <td>0.526465</td>\n",
              "      <td>0.232663</td>\n",
              "    </tr>\n",
              "    <tr>\n",
              "      <th>min</th>\n",
              "      <td>-19.150709</td>\n",
              "      <td>-20.314184</td>\n",
              "      <td>-1.397452</td>\n",
              "      <td>0.000000</td>\n",
              "      <td>-2.581826</td>\n",
              "      <td>-1.645971e+01</td>\n",
              "      <td>-14.104065</td>\n",
              "      <td>-1.460764</td>\n",
              "      <td>-127.339546</td>\n",
              "      <td>-199.099836</td>\n",
              "      <td>-7.169926</td>\n",
              "      <td>2.00000</td>\n",
              "      <td>-2.827884</td>\n",
              "      <td>-2.567549</td>\n",
              "      <td>-2.496956</td>\n",
              "    </tr>\n",
              "    <tr>\n",
              "      <th>25%</th>\n",
              "      <td>-0.096572</td>\n",
              "      <td>-0.186617</td>\n",
              "      <td>-0.035276</td>\n",
              "      <td>9.540328</td>\n",
              "      <td>-0.244661</td>\n",
              "      <td>-2.062258e+00</td>\n",
              "      <td>-0.248682</td>\n",
              "      <td>-0.001611</td>\n",
              "      <td>-0.203056</td>\n",
              "      <td>-0.125376</td>\n",
              "      <td>-0.027802</td>\n",
              "      <td>23.00000</td>\n",
              "      <td>-0.096205</td>\n",
              "      <td>-0.136065</td>\n",
              "      <td>-0.056459</td>\n",
              "    </tr>\n",
              "    <tr>\n",
              "      <th>50%</th>\n",
              "      <td>0.000000</td>\n",
              "      <td>0.000000</td>\n",
              "      <td>0.000000</td>\n",
              "      <td>14.958324</td>\n",
              "      <td>0.000000</td>\n",
              "      <td>-9.418571e-14</td>\n",
              "      <td>0.000000</td>\n",
              "      <td>0.000000</td>\n",
              "      <td>0.000000</td>\n",
              "      <td>0.000000</td>\n",
              "      <td>0.000000</td>\n",
              "      <td>36.00000</td>\n",
              "      <td>0.000000</td>\n",
              "      <td>0.000000</td>\n",
              "      <td>0.000000</td>\n",
              "    </tr>\n",
              "    <tr>\n",
              "      <th>75%</th>\n",
              "      <td>1.998405</td>\n",
              "      <td>1.586876</td>\n",
              "      <td>0.010086</td>\n",
              "      <td>27.423361</td>\n",
              "      <td>0.261646</td>\n",
              "      <td>1.632117e-03</td>\n",
              "      <td>0.315125</td>\n",
              "      <td>0.033351</td>\n",
              "      <td>0.089273</td>\n",
              "      <td>0.109812</td>\n",
              "      <td>0.031741</td>\n",
              "      <td>52.00000</td>\n",
              "      <td>0.144699</td>\n",
              "      <td>0.167540</td>\n",
              "      <td>0.055185</td>\n",
              "    </tr>\n",
              "    <tr>\n",
              "      <th>max</th>\n",
              "      <td>20.264639</td>\n",
              "      <td>14.041661</td>\n",
              "      <td>1.450144</td>\n",
              "      <td>81.817653</td>\n",
              "      <td>2.602490</td>\n",
              "      <td>3.750918e+01</td>\n",
              "      <td>23.871470</td>\n",
              "      <td>1.361739</td>\n",
              "      <td>129.366037</td>\n",
              "      <td>186.041649</td>\n",
              "      <td>7.546433</td>\n",
              "      <td>164.00000</td>\n",
              "      <td>2.621215</td>\n",
              "      <td>2.352465</td>\n",
              "      <td>2.783943</td>\n",
              "    </tr>\n",
              "  </tbody>\n",
              "</table>\n",
              "</div>"
            ],
            "text/plain": [
              "                 vx            vy  ...            ay            az\n",
              "count  17654.000000  17654.000000  ...  17654.000000  17654.000000\n",
              "mean       0.895922      0.512241  ...      0.000088     -0.000867\n",
              "std        4.180982      4.017711  ...      0.526465      0.232663\n",
              "min      -19.150709    -20.314184  ...     -2.567549     -2.496956\n",
              "25%       -0.096572     -0.186617  ...     -0.136065     -0.056459\n",
              "50%        0.000000      0.000000  ...      0.000000      0.000000\n",
              "75%        1.998405      1.586876  ...      0.167540      0.055185\n",
              "max       20.264639     14.041661  ...      2.352465      2.783943\n",
              "\n",
              "[8 rows x 15 columns]"
            ]
          },
          "metadata": {
            "tags": []
          },
          "execution_count": 10
        }
      ]
    },
    {
      "cell_type": "code",
      "metadata": {
        "id": "ne1S5J7topxz",
        "colab_type": "code",
        "outputId": "4afa21f6-dfc2-488f-a462-a0919604c4db",
        "colab": {
          "base_uri": "https://localhost:8080/",
          "height": 85
        }
      },
      "source": [
        "# First we will try to see if RobustScaler helps.\n",
        "model_XGB_ax = make_pipeline(RobustScaler(), xgboost.XGBRegressor(gamma=0.05,learning_rate=0.05, max_depth=3,\n",
        "                                            n_estimators=2500,reg_alpha=0.5, reg_lambda=0.85))\n",
        "print(' Extreme Gradient Boosting score is: ' ,-np.mean(cross_val_score(model_XGB_ax,X_train_ax,y_train_ax, scoring='neg_median_absolute_error', cv = 5, n_jobs = -1)),'\\n')\n",
        "\n",
        "model_XGB_ay = make_pipeline(RobustScaler(), xgboost.XGBRegressor(gamma=0.05,learning_rate=0.05, may_depth=3,\n",
        "                                            n_estimators=2500,reg_alpha=0.5, reg_lambda=0.85))\n",
        "print(' Extreme Gradient Boosting score is: ' ,-np.mean(cross_val_score(model_XGB_ay,X_train_ay,y_train_ay, scoring='neg_median_absolute_error', cv = 5, n_jobs = -1)),'\\n')"
      ],
      "execution_count": 11,
      "outputs": [
        {
          "output_type": "stream",
          "text": [
            " Extreme Gradient Boosting score is:  0.06989822038791553 \n",
            "\n",
            " Extreme Gradient Boosting score is:  0.0651028377981756 \n",
            "\n"
          ],
          "name": "stdout"
        }
      ]
    },
    {
      "cell_type": "markdown",
      "metadata": {
        "id": "IWLbqCymopx2",
        "colab_type": "text"
      },
      "source": [
        "We can see a small increase in accuracy, so we will keep it. Now we will try three different models and see how they work, this models are:\n",
        "* XGboost\n",
        "* Gradient Boosting Regressor\n",
        "* LightGBM Regressor"
      ]
    },
    {
      "cell_type": "code",
      "metadata": {
        "id": "1k6AMjSRopx3",
        "colab_type": "code",
        "colab": {}
      },
      "source": [
        "def generate_boosting_models(X_train):\n",
        "    \n",
        "    categorical = X_train.dtypes == object\n",
        "    \n",
        "    model_GBC = make_pipeline(RobustScaler(), GradientBoostingRegressor(alpha = 0.85, n_estimators = 1000, max_depth = 3))\n",
        "    model_LGB = make_pipeline(RobustScaler(), LGBMRegressor(objective='regression', num_leaves=5, learning_rate=0.05, n_estimators=800))\n",
        "    model_XGB = make_pipeline(RobustScaler(), xgboost.XGBRegressor(objective ='reg:squarederror', gamma=0.05, learning_rate=0.05, max_depth=3, n_estimators=2500, reg_alpha=0.5, reg_lambda=0.85))\n",
        "  \n",
        "    return model_GBC, model_LGB,model_XGB\n",
        "\n",
        "def generate_stacking_model(X_train):\n",
        "    \n",
        "    lasso = Lasso(alpha = 1e-3)\n",
        "    GBC = GradientBoostingRegressor(alpha = 0.85,n_estimators = 1000,max_depth = 3)\n",
        "    LGB = LGBMRegressor(objective='regression',num_leaves=5, learning_rate=0.05, n_estimators=800)\n",
        "    XGB = xgboost.XGBRegressor(objective ='reg:squarederror', gamma=0.05,learning_rate=0.05, max_depth=3, n_estimators=2500,reg_alpha=0.5, reg_lambda=0.85)\n",
        "\n",
        "    categorical = X_train.dtypes == object\n",
        "    model_SR = make_pipeline(RobustScaler(), StackingRegressor(regressors=[LGB,lasso,XGB], meta_regressor=lasso))\n",
        "    \n",
        "    return model_SR\n",
        "\n",
        "def evaluate_model_by_cross_validation(model, X_train, y_train):\n",
        "  return -np.mean(cross_val_score(model,X_train,y_train, scoring='neg_median_absolute_error', cv = 5, n_jobs = -1))\n"
      ],
      "execution_count": 0,
      "outputs": []
    },
    {
      "cell_type": "code",
      "metadata": {
        "id": "UJX9zv4Wopx5",
        "colab_type": "code",
        "colab": {}
      },
      "source": [
        "# Generate models for cross validation wrt ax and ay\n",
        "model_GBC_cross_ax, model_LGB_cross_ax, model_XGB_cross_ax = generate_boosting_models(X_train_ax)\n",
        "model_GBC_cross_ay, model_LGB_cross_ay, model_XGB_cross_ay = generate_boosting_models(X_train_ay)\n",
        "model_SR_cross_ax = generate_stacking_model(X_train_ax)\n",
        "model_SR_cross_ay = generate_stacking_model(X_train_ay)"
      ],
      "execution_count": 0,
      "outputs": []
    },
    {
      "cell_type": "code",
      "metadata": {
        "id": "IEngECRo5m_c",
        "colab_type": "code",
        "outputId": "50a72ae9-e10c-449a-b8d6-79d80da5d79c",
        "colab": {
          "base_uri": "https://localhost:8080/",
          "height": 204
        }
      },
      "source": [
        "print('Gradient Boosting score for ax is: ', evaluate_model_by_cross_validation(model_GBC_cross_ax, X_train_ax, y_train_ax))\n",
        "print('Light Gradient Boosting score for ax is: ' , evaluate_model_by_cross_validation(model_LGB_cross_ax, X_train_ax, y_train_ax))\n",
        "print('Extreme Gradient Boosting score for ax is: ' , evaluate_model_by_cross_validation(model_XGB_cross_ax, X_train_ax, y_train_ax))\n",
        "print(\"Stacking Regressor score for ax is: \", evaluate_model_by_cross_validation(model_SR_cross_ax, X_train_ax, y_train_ax))\n",
        "\n",
        "print(\"\\n\\n\")\n",
        "\n",
        "print('Gradient Boosting score for ay is: ', evaluate_model_by_cross_validation(model_GBC_cross_ay, X_train_ay, y_train_ay))\n",
        "print('Light Gradient Boosting score for ay is: ' , evaluate_model_by_cross_validation(model_LGB_cross_ay, X_train_ay, y_train_ay))\n",
        "print('Extreme Gradient Boosting score for ay is: ' , evaluate_model_by_cross_validation(model_XGB_cross_ay, X_train_ay, y_train_ay))\n",
        "print(\"Stacking Regressor score for ay is: \", evaluate_model_by_cross_validation(model_SR_cross_ay, X_train_ay, y_train_ay))"
      ],
      "execution_count": 16,
      "outputs": [
        {
          "output_type": "stream",
          "text": [
            "Gradient Boosting score for ax is:  0.06692848397457403\n",
            "Light Gradient Boosting score for ax is:  0.0798259959651597\n",
            "Extreme Gradient Boosting score for ax is:  0.06989822038791553\n",
            "Stacking Regressor score for ax is:  0.07090951816094951\n",
            "\n",
            "\n",
            "\n",
            "Gradient Boosting score for ay is:  0.058563565158533816\n",
            "Light Gradient Boosting score for ay is:  0.07099243864227897\n",
            "Extreme Gradient Boosting score for ay is:  0.0651028377981756\n",
            "Stacking Regressor score for ay is:  0.0652450543892687\n"
          ],
          "name": "stdout"
        }
      ]
    },
    {
      "cell_type": "code",
      "metadata": {
        "id": "IrIoquPmopx-",
        "colab_type": "code",
        "colab": {}
      },
      "source": [
        "aux = [i if abs(np.mean((train.iloc[i,:10] - train.iloc[i+1,:10]))) else 0 for i in range(0,len(train))] "
      ],
      "execution_count": 0,
      "outputs": []
    },
    {
      "cell_type": "markdown",
      "metadata": {
        "id": "Rk5D8J51s4Kh",
        "colab_type": "text"
      },
      "source": [
        "## Testing"
      ]
    },
    {
      "cell_type": "code",
      "metadata": {
        "id": "yFz8oSpu8JKX",
        "colab_type": "code",
        "colab": {}
      },
      "source": [
        "# Generate models for testing out on test data\n",
        "model_GBC_ax, model_LGB_ax, model_XGB_ax = generate_boosting_models()\n",
        "model_GBC_ay, model_LGB_ay, model_XGB_ay = generate_boosting_models()\n",
        "model_SR_ax = generate_stacking_model()\n",
        "model_SR_ay = generate_stacking_model()"
      ],
      "execution_count": 0,
      "outputs": []
    },
    {
      "cell_type": "code",
      "metadata": {
        "id": "kforxRj-tL-M",
        "colab_type": "code",
        "outputId": "f517e6cf-3b99-4b89-d71c-b731c3f3cbb4",
        "colab": {
          "base_uri": "https://localhost:8080/",
          "height": 85
        }
      },
      "source": [
        "from sklearn.metrics import mean_absolute_error\n",
        "\n",
        "# Testing model wrt ax\n",
        "# Fitting models\n",
        "model_XGB_ax.fit(X, Y_ax)\n",
        "model_GBC_ax.fit(X, Y_ax)\n",
        "model_LGB_ax.fit(X, Y_ax)\n",
        "model_SR_ax.fit(X, Y_ax)\n",
        "\n",
        "# Predict\n",
        "pred_XGB_Y_ax = model_XGB_ax.predict(X_val)\n",
        "pred_GBC_Y_ax = model_GBC_ax.predict(X_val)\n",
        "pred_LGB_Y_ax = model_LGB_ax.predict(X_val)\n",
        "pred_SR_Y_ax = model_SR_ax.predict(X_val)\n",
        "\n",
        "# Evaluate\n",
        "print(\"MAE of XGB model for ax is:\", mean_absolute_error(pred_XGB_Y_ax, Y_val_ax))\n",
        "print(\"MAE of GBC model for ax is:\", mean_absolute_error(pred_GBC_Y_ax, Y_val_ax))\n",
        "print(\"MAE of LGB model for ax is:\", mean_absolute_error(pred_LGB_Y_ax, Y_val_ax))\n",
        "print(\"MAE of SR model for ax is:\", mean_absolute_error(pred_SR_Y_ax, Y_val_ax))\n"
      ],
      "execution_count": 0,
      "outputs": [
        {
          "output_type": "stream",
          "text": [
            "MAE of XGB model for ax is: 0.3686276244769425\n",
            "MAE of GBC model for ax is: 0.3914869858510271\n",
            "MAE of LGB model for ax is: 0.3331275368083274\n",
            "MAE of SR model for ax is: 0.3881150978628632\n"
          ],
          "name": "stdout"
        }
      ]
    },
    {
      "cell_type": "code",
      "metadata": {
        "id": "5R4Pu1Mr6Jcv",
        "colab_type": "code",
        "outputId": "9e04c5ee-6e9e-4f3c-d578-9b3bc2e21362",
        "colab": {
          "base_uri": "https://localhost:8080/",
          "height": 85
        }
      },
      "source": [
        "# Testing model wrt ay\n",
        "# Fitting models\n",
        "model_XGB_ay.fit(X, Y_ay)\n",
        "model_GBC_ay.fit(X, Y_ay)\n",
        "model_LGB_ay.fit(X, Y_ay)\n",
        "model_SR_ay.fit(X, Y_ay)\n",
        "\n",
        "# Predict\n",
        "pred_XGB_Y_ay = model_XGB_ay.predict(X_val)\n",
        "pred_GBC_Y_ay = model_GBC_ay.predict(X_val)\n",
        "pred_LGB_Y_ay = model_LGB_ay.predict(X_val)\n",
        "pred_SR_Y_ay = model_SR_ay.predict(X_val)\n",
        "\n",
        "# Evaluate\n",
        "print(\"MAE of XGB model for ay is:\", mean_absolute_error(pred_XGB_Y_ay, Y_val_ay))\n",
        "print(\"MAE of GBC model for ay is:\", mean_absolute_error(pred_GBC_Y_ay, Y_val_ay))\n",
        "print(\"MAE of LGB model for ay is:\", mean_absolute_error(pred_LGB_Y_ay, Y_val_ay))\n",
        "print(\"MAE of SR model for ay is:\", mean_absolute_error(pred_SR_Y_ay, Y_val_ay))"
      ],
      "execution_count": 0,
      "outputs": [
        {
          "output_type": "stream",
          "text": [
            "MAE of XGB model for ay is: 0.3619189745640704\n",
            "MAE of GBC model for ay is: 0.3909493338559913\n",
            "MAE of LGB model for ay is: 0.26933650078551474\n",
            "MAE of SR model for ay is: 0.398083355688693\n"
          ],
          "name": "stdout"
        }
      ]
    }
  ]
}