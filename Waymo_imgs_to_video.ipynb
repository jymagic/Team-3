{
  "nbformat": 4,
  "nbformat_minor": 0,
  "metadata": {
    "colab": {
      "name": "Waymo imgs to video.ipynb",
      "provenance": []
    },
    "kernelspec": {
      "name": "python3",
      "display_name": "Python 3"
    }
  },
  "cells": [
    {
      "cell_type": "markdown",
      "metadata": {
        "id": "emKx5jMcUZP9",
        "colab_type": "text"
      },
      "source": [
        "# Waymo Driveless Car Data Analysis Project \n",
        "## Converting image sequence to video\n",
        "\n",
        "Team 2: Yumeng Jiang, Gerardo Antonio Lopez Ruiz, **Qian Zheng**\n",
        "\n",
        "Date: Sep 29th 2019"
      ]
    },
    {
      "cell_type": "markdown",
      "metadata": {
        "id": "etDJAaJECXtL",
        "colab_type": "text"
      },
      "source": [
        "## 0 Sample Video\n",
        "\n",
        "https://youtu.be/3L6d292qmC8"
      ]
    },
    {
      "cell_type": "markdown",
      "metadata": {
        "id": "vUH9ASu3Us66",
        "colab_type": "text"
      },
      "source": [
        "## 1 Prerequisite Installation"
      ]
    },
    {
      "cell_type": "code",
      "metadata": {
        "id": "YU2Cyr2o_yXr",
        "colab_type": "code",
        "outputId": "366ff0eb-30eb-4cd4-f44b-de3e74dd8bdb",
        "colab": {
          "base_uri": "https://localhost:8080/",
          "height": 479
        }
      },
      "source": [
        "!pip3 install --upgrade pip\n",
        "!pip3 install waymo-open-dataset"
      ],
      "execution_count": 0,
      "outputs": [
        {
          "output_type": "stream",
          "text": [
            "Requirement already up-to-date: pip in /usr/local/lib/python3.6/dist-packages (19.2.3)\n",
            "Collecting waymo-open-dataset\n",
            "\u001b[?25l  Downloading https://files.pythonhosted.org/packages/6c/49/61ff4a6081233df4b3d7bb1b454a8a9c6a29b493ef84c2b667db4a2b79d5/waymo_open_dataset-1.0.1-cp36-cp36m-manylinux2010_x86_64.whl (2.7MB)\n",
            "\u001b[K     |████████████████████████████████| 2.7MB 4.9MB/s \n",
            "\u001b[?25hRequirement already satisfied: tensorflow>=1.14.0 in /usr/local/lib/python3.6/dist-packages (from waymo-open-dataset) (1.14.0)\n",
            "Requirement already satisfied: grpcio>=1.8.6 in /usr/local/lib/python3.6/dist-packages (from tensorflow>=1.14.0->waymo-open-dataset) (1.15.0)\n",
            "Requirement already satisfied: keras-applications>=1.0.6 in /usr/local/lib/python3.6/dist-packages (from tensorflow>=1.14.0->waymo-open-dataset) (1.0.8)\n",
            "Requirement already satisfied: protobuf>=3.6.1 in /usr/local/lib/python3.6/dist-packages (from tensorflow>=1.14.0->waymo-open-dataset) (3.7.1)\n",
            "Requirement already satisfied: termcolor>=1.1.0 in /usr/local/lib/python3.6/dist-packages (from tensorflow>=1.14.0->waymo-open-dataset) (1.1.0)\n",
            "Requirement already satisfied: gast>=0.2.0 in /usr/local/lib/python3.6/dist-packages (from tensorflow>=1.14.0->waymo-open-dataset) (0.2.2)\n",
            "Requirement already satisfied: keras-preprocessing>=1.0.5 in /usr/local/lib/python3.6/dist-packages (from tensorflow>=1.14.0->waymo-open-dataset) (1.1.0)\n",
            "Requirement already satisfied: tensorboard<1.15.0,>=1.14.0 in /usr/local/lib/python3.6/dist-packages (from tensorflow>=1.14.0->waymo-open-dataset) (1.14.0)\n",
            "Requirement already satisfied: wheel>=0.26 in /usr/local/lib/python3.6/dist-packages (from tensorflow>=1.14.0->waymo-open-dataset) (0.33.6)\n",
            "Requirement already satisfied: numpy<2.0,>=1.14.5 in /usr/local/lib/python3.6/dist-packages (from tensorflow>=1.14.0->waymo-open-dataset) (1.16.5)\n",
            "Requirement already satisfied: astor>=0.6.0 in /usr/local/lib/python3.6/dist-packages (from tensorflow>=1.14.0->waymo-open-dataset) (0.8.0)\n",
            "Requirement already satisfied: google-pasta>=0.1.6 in /usr/local/lib/python3.6/dist-packages (from tensorflow>=1.14.0->waymo-open-dataset) (0.1.7)\n",
            "Requirement already satisfied: absl-py>=0.7.0 in /usr/local/lib/python3.6/dist-packages (from tensorflow>=1.14.0->waymo-open-dataset) (0.8.0)\n",
            "Requirement already satisfied: wrapt>=1.11.1 in /usr/local/lib/python3.6/dist-packages (from tensorflow>=1.14.0->waymo-open-dataset) (1.11.2)\n",
            "Requirement already satisfied: six>=1.10.0 in /usr/local/lib/python3.6/dist-packages (from tensorflow>=1.14.0->waymo-open-dataset) (1.12.0)\n",
            "Requirement already satisfied: tensorflow-estimator<1.15.0rc0,>=1.14.0rc0 in /usr/local/lib/python3.6/dist-packages (from tensorflow>=1.14.0->waymo-open-dataset) (1.14.0)\n",
            "Requirement already satisfied: h5py in /usr/local/lib/python3.6/dist-packages (from keras-applications>=1.0.6->tensorflow>=1.14.0->waymo-open-dataset) (2.8.0)\n",
            "Requirement already satisfied: setuptools in /usr/local/lib/python3.6/dist-packages (from protobuf>=3.6.1->tensorflow>=1.14.0->waymo-open-dataset) (41.2.0)\n",
            "Requirement already satisfied: werkzeug>=0.11.15 in /usr/local/lib/python3.6/dist-packages (from tensorboard<1.15.0,>=1.14.0->tensorflow>=1.14.0->waymo-open-dataset) (0.15.6)\n",
            "Requirement already satisfied: markdown>=2.6.8 in /usr/local/lib/python3.6/dist-packages (from tensorboard<1.15.0,>=1.14.0->tensorflow>=1.14.0->waymo-open-dataset) (3.1.1)\n",
            "Installing collected packages: waymo-open-dataset\n",
            "Successfully installed waymo-open-dataset-1.0.1\n"
          ],
          "name": "stdout"
        }
      ]
    },
    {
      "cell_type": "markdown",
      "metadata": {
        "id": "BN06xTZimhls",
        "colab_type": "text"
      },
      "source": [
        "## 2 Essentials Importing"
      ]
    },
    {
      "cell_type": "code",
      "metadata": {
        "id": "28RFPgI__0m6",
        "colab_type": "code",
        "colab": {}
      },
      "source": [
        "import tensorflow as tf\n",
        "import cv2\n",
        "\n",
        "tf.enable_eager_execution()\n",
        "\n",
        "from waymo_open_dataset import dataset_pb2 as open_dataset"
      ],
      "execution_count": 0,
      "outputs": []
    },
    {
      "cell_type": "markdown",
      "metadata": {
        "id": "8jJomM0Wmr13",
        "colab_type": "text"
      },
      "source": [
        "## 3 Images Loading\n",
        "\n",
        "Each segment contains several frames, and each frame contains five images taken by 5 camera at different positions (front, front left, side left, front right and side right). Given that the video this task generates serves for determining the scenario of each segment, we only use the front-view image of each frame (POS == 0)."
      ]
    },
    {
      "cell_type": "code",
      "metadata": {
        "id": "L_YGd5e9-yd-",
        "colab_type": "code",
        "outputId": "d48d1ed1-6ec1-48d3-e65d-9002f0d85cec",
        "colab": {
          "base_uri": "https://localhost:8080/",
          "height": 34
        }
      },
      "source": [
        "FILENAME = '/content/segment-169115044301335945_480_000_500_000.tfrecord'\n",
        "\n",
        "dataset = tf.data.TFRecordDataset(FILENAME, compression_type='')\n",
        "\n",
        "# Load frames from dataset\n",
        "frames = []\n",
        "for data in dataset:\n",
        "    frame = open_dataset.Frame()\n",
        "    frame.ParseFromString(bytearray(data.numpy()))\n",
        "    frames.append(frame)\n",
        "    \n",
        "print(\"filename:\", FILENAME, \"Num of frames:\", len(frames))\n",
        "\n",
        "# [\"FRONT\", \"FRONT_LEFT\", \"SIDE_LEFT\", \"FRONT_RIGHT\", \"SIDE_RIGHT\"]\n",
        "POS = 0\n",
        "\n",
        "# Read img from waymo img class into numpy arrays\n",
        "imgs = []\n",
        "for frame in frames:\n",
        "  l = list(enumerate(frame.images))\n",
        "  _, im = l[POS]\n",
        "  img = tf.image.decode_jpeg(im.image)\n",
        "  height, width, _ = img.shape\n",
        "  size = (width,height)\n",
        "  imgs.append(img.numpy())"
      ],
      "execution_count": 0,
      "outputs": [
        {
          "output_type": "stream",
          "text": [
            "filename: /content/segment-169115044301335945_480_000_500_000.tfrecord Num of frames:  198\n"
          ],
          "name": "stdout"
        }
      ]
    },
    {
      "cell_type": "markdown",
      "metadata": {
        "id": "wHiOozP_nT-w",
        "colab_type": "text"
      },
      "source": [
        "## 4 Conversion to Video"
      ]
    },
    {
      "cell_type": "markdown",
      "metadata": {
        "id": "3GJh9sXiozlt",
        "colab_type": "text"
      },
      "source": [
        "FPS refers to frames per second. 24 is used by most of films."
      ]
    },
    {
      "cell_type": "code",
      "metadata": {
        "id": "SzzC_Wp2AC5v",
        "colab_type": "code",
        "colab": {}
      },
      "source": [
        "output = FILENAME.split('.')[0] + \".mp4\"\n",
        "fps = 24\n",
        "\n",
        "# Write a sequence of imgs to a video  \n",
        "out = cv2.VideoWriter(output, cv2.VideoWriter_fourcc('M','J','P','G'), fps, size)\n",
        "for img in imgs:\n",
        "    out.write(img)\n",
        "out.release()"
      ],
      "execution_count": 0,
      "outputs": []
    }
  ]
}