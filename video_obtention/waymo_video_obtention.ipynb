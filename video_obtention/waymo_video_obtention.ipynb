{
 "cells": [
  {
   "cell_type": "markdown",
   "metadata": {},
   "source": [
    "### Team 2 initial data wrangling."
   ]
  },
  {
   "cell_type": "markdown",
   "metadata": {},
   "source": [
    "In this notebook we will try to obtain the waymo data in a way that it is easily processed and with which we can start our data analysis."
   ]
  },
  {
   "cell_type": "markdown",
   "metadata": {},
   "source": [
    "Example code obtained from: \n",
    "- https://colab.research.google.com/github/waymo-research/waymo-open-dataset/blob/master/tutorial/tutorial.ipynb#scrollTo=JPc-xBE6VMHi\n",
    "\n",
    "It was adapted in order to work with local windows machine\n",
    "\n",
    "You also need to follow:\n",
    "\n",
    "- https://github.com/waymo-research/waymo-open-dataset\n",
    "- https://github.com/yyuuliang/waymo-dataset-viewer (if you want to avoid bazel installation)\n",
    "\n",
    "in order to get the waymo open dataset package."
   ]
  },
  {
   "cell_type": "code",
   "execution_count": 10,
   "metadata": {},
   "outputs": [],
   "source": [
    "import os\n",
    "import imp\n",
    "import tensorflow as tf # > 1.14\n",
    "import math\n",
    "import numpy as np\n",
    "import itertools\n",
    "import matplotlib.pyplot as plt\n",
    "import cv2\n",
    "from os import listdir\n",
    "from os.path import isfile, join\n",
    "\n",
    "# TODO: Change this to your own setting\n",
    "os.environ['PYTHONPATH']='/env/python:~/github/waymo-open-dataset'\n",
    "m=imp.find_module('waymo_open_dataset', ['.'])\n",
    "imp.load_module('waymo_open_dataset', m[0], m[1], m[2])\n",
    "\n",
    "from waymo_open_dataset.utils import range_image_utils\n",
    "from waymo_open_dataset.utils import transform_utils\n",
    "from waymo_open_dataset import dataset_pb2 as open_dataset"
   ]
  },
  {
   "cell_type": "code",
   "execution_count": 13,
   "metadata": {},
   "outputs": [
    {
     "name": "stdout",
     "output_type": "stream",
     "text": [
      "filename: data/training_0004/segment-10498013744573185290_1240_000_1260_000.tfrecord Num of frames: 199\n",
      "filename: data/training_0004/segment-10517728057304349900_3360_000_3380_000.tfrecord Num of frames: 199\n",
      "filename: data/training_0004/segment-1051897962568538022_238_170_258_170.tfrecord Num of frames: 198\n",
      "filename: data/training_0004/segment-10584247114982259878_490_000_510_000.tfrecord Num of frames: 198\n",
      "filename: data/training_0004/segment-10588771936253546636_2300_000_2320_000.tfrecord Num of frames: 199\n",
      "filename: data/training_0004/segment-10596949720463106554_1933_530_1953_530.tfrecord Num of frames: 199\n",
      "filename: data/training_0004/segment-10599748131695282446_1380_000_1400_000.tfrecord Num of frames: 198\n",
      "filename: data/training_0004/segment-10625026498155904401_200_000_220_000.tfrecord Num of frames: 198\n",
      "filename: data/training_0004/segment-10664823084372323928_4360_000_4380_000.tfrecord Num of frames: 198\n",
      "filename: data/training_0004/segment-10676267326664322837_311_180_331_180.tfrecord Num of frames: 198\n",
      "filename: data/training_0004/segment-10723911392655396041_860_000_880_000.tfrecord Num of frames: 198\n",
      "filename: data/training_0004/segment-10734565072045778791_440_000_460_000.tfrecord Num of frames: 199\n",
      "filename: data/training_0004/segment-10750135302241325253_180_000_200_000.tfrecord Num of frames: 199\n",
      "filename: data/training_0004/segment-10770759614217273359_1465_000_1485_000.tfrecord Num of frames: 199\n",
      "filename: data/training_0004/segment-10786629299947667143_3440_000_3460_000.tfrecord Num of frames: 198\n",
      "filename: data/training_0004/segment-10793018113277660068_2714_540_2734_540.tfrecord Num of frames: 198\n",
      "filename: data/training_0004/segment-1083056852838271990_4080_000_4100_000.tfrecord Num of frames: 199\n",
      "filename: data/training_0004/segment-10876852935525353526_1640_000_1660_000.tfrecord Num of frames: 199\n",
      "filename: data/training_0004/segment-10923963890428322967_1445_000_1465_000.tfrecord Num of frames: 199\n",
      "filename: data/training_0004/segment-10927752430968246422_4940_000_4960_000.tfrecord Num of frames: 197\n",
      "filename: data/training_0004/segment-10940952441434390507_1888_710_1908_710.tfrecord Num of frames: 198\n",
      "filename: data/training_0004/segment-10963653239323173269_1924_000_1944_000.tfrecord Num of frames: 199\n",
      "filename: data/training_0004/segment-10964956617027590844_1584_680_1604_680.tfrecord Num of frames: 197\n",
      "filename: data/training_0004/segment-10975280749486260148_940_000_960_000.tfrecord Num of frames: 198\n",
      "filename: data/training_0004/segment-11017034898130016754_697_830_717_830.tfrecord Num of frames: 198\n"
     ]
    }
   ],
   "source": [
    "n = '04'\n",
    "tf.enable_eager_execution()\n",
    "path = 'data/training_00'+n+'/' # Change path of data if needed here.\n",
    "files = [f for f in listdir(path) if isfile(join(path,f))]\n",
    "\n",
    "for i in range(len(files)):\n",
    "    file = path+files[i]\n",
    "    dataset = tf.data.TFRecordDataset(file, compression_type='')\n",
    "    # Load frames from dataset\n",
    "    frames = []\n",
    "    for data in dataset:\n",
    "        frame = open_dataset.Frame()\n",
    "        frame.ParseFromString(bytearray(data.numpy()))\n",
    "        frames.append(frame)\n",
    "\n",
    "    print(\"filename:\", file, \"Num of frames:\", len(frames))\n",
    "\n",
    "    # [\"FRONT\", \"FRONT_LEFT\", \"SIDE_LEFT\", \"FRONT_RIGHT\", \"SIDE_RIGHT\"]\n",
    "    POS = 0\n",
    "\n",
    "    # Read img from waymo img class into numpy arrays\n",
    "    imgs = []\n",
    "    for frame in frames:\n",
    "      l = list(enumerate(frame.images))\n",
    "      _, im = l[POS]\n",
    "      img = tf.image.decode_jpeg(im.image)\n",
    "      height, width, _ = img.shape\n",
    "      size = (width,height)\n",
    "      imgs.append(img.numpy())\n",
    "    \n",
    "    output = 'videos/training_00'+n+'/'+ 'training_00'+n+'_' +files[i].split('.')[0] + \".avi\" # Change path of video results if needed here.\n",
    "    fps = 10\n",
    "\n",
    "    # Write a sequence of imgs to a video  \n",
    "    out = cv2.VideoWriter(output, cv2.VideoWriter_fourcc(*'XVID'), fps, size)\n",
    "    for img in imgs:\n",
    "        # Get it in GBR instead of RGB\n",
    "        gbr = img[...,::-1].copy()\n",
    "        out.write(gbr)\n",
    "    out.release()"
   ]
  }
 ],
 "metadata": {
  "kernelspec": {
   "display_name": "Python 3",
   "language": "python",
   "name": "python3"
  },
  "language_info": {
   "codemirror_mode": {
    "name": "ipython",
    "version": 3
   },
   "file_extension": ".py",
   "mimetype": "text/x-python",
   "name": "python",
   "nbconvert_exporter": "python",
   "pygments_lexer": "ipython3",
   "version": "3.6.9"
  }
 },
 "nbformat": 4,
 "nbformat_minor": 4
}
