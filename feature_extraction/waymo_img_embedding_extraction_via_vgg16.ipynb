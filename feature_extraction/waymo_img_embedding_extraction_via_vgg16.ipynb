{
  "nbformat": 4,
  "nbformat_minor": 0,
  "metadata": {
    "colab": {
      "name": "waymo_img_embedding_ extraction_via_vgg16.ipynb",
      "provenance": [],
      "collapsed_sections": [],
      "machine_shape": "hm"
    },
    "kernelspec": {
      "name": "python3",
      "display_name": "Python 3"
    },
    "accelerator": "GPU"
  },
  "cells": [
    {
      "cell_type": "markdown",
      "metadata": {
        "id": "noFJXq6fhSbB",
        "colab_type": "text"
      },
      "source": [
        "## **Image embedding extraction via transfer learning from VGG16**"
      ]
    },
    {
      "cell_type": "markdown",
      "metadata": {
        "id": "0UBQYWIRhaPX",
        "colab_type": "text"
      },
      "source": [
        "## 1 Mounting Google Drive"
      ]
    },
    {
      "cell_type": "code",
      "metadata": {
        "id": "0f1cxkvqBoR6",
        "colab_type": "code",
        "outputId": "f9f4800c-5a62-4197-8eaf-b5043a9c6d98",
        "colab": {
          "base_uri": "https://localhost:8080/",
          "height": 34
        }
      },
      "source": [
        "from google.colab import drive\n",
        "drive.mount('/content/drive', force_remount=True)"
      ],
      "execution_count": 25,
      "outputs": [
        {
          "output_type": "stream",
          "text": [
            "Mounted at /content/drive\n"
          ],
          "name": "stdout"
        }
      ]
    },
    {
      "cell_type": "markdown",
      "metadata": {
        "id": "Qg8ah3MNhnjv",
        "colab_type": "text"
      },
      "source": [
        "# 2 Loading layers from VGG16"
      ]
    },
    {
      "cell_type": "code",
      "metadata": {
        "id": "OVmjU_QE-1pH",
        "colab_type": "code",
        "outputId": "332c6262-5648-4af2-db12-170314e50f6d",
        "colab": {
          "base_uri": "https://localhost:8080/",
          "height": 833
        }
      },
      "source": [
        "from keras.applications.vgg16 import VGG16\n",
        "from keras.layers import *\n",
        "from keras.models import Model\n",
        "import numpy as np \n",
        "\n",
        "\n",
        "vgg_model = VGG16(weights='imagenet', include_top=False, input_shape = (224,224, 3)) \n",
        "block5_pool = vgg_model.get_layer(\"block5_pool\").output\n",
        "f0 = Flatten()(block5_pool)\n",
        "\n",
        "transferred_model = Model(inputs=vgg_model.input, outputs=f0)\n",
        "transferred_model.summary()"
      ],
      "execution_count": 26,
      "outputs": [
        {
          "output_type": "stream",
          "text": [
            "Model: \"model_3\"\n",
            "_________________________________________________________________\n",
            "Layer (type)                 Output Shape              Param #   \n",
            "=================================================================\n",
            "input_2 (InputLayer)         (None, 224, 224, 3)       0         \n",
            "_________________________________________________________________\n",
            "block1_conv1 (Conv2D)        (None, 224, 224, 64)      1792      \n",
            "_________________________________________________________________\n",
            "block1_conv2 (Conv2D)        (None, 224, 224, 64)      36928     \n",
            "_________________________________________________________________\n",
            "block1_pool (MaxPooling2D)   (None, 112, 112, 64)      0         \n",
            "_________________________________________________________________\n",
            "block2_conv1 (Conv2D)        (None, 112, 112, 128)     73856     \n",
            "_________________________________________________________________\n",
            "block2_conv2 (Conv2D)        (None, 112, 112, 128)     147584    \n",
            "_________________________________________________________________\n",
            "block2_pool (MaxPooling2D)   (None, 56, 56, 128)       0         \n",
            "_________________________________________________________________\n",
            "block3_conv1 (Conv2D)        (None, 56, 56, 256)       295168    \n",
            "_________________________________________________________________\n",
            "block3_conv2 (Conv2D)        (None, 56, 56, 256)       590080    \n",
            "_________________________________________________________________\n",
            "block3_conv3 (Conv2D)        (None, 56, 56, 256)       590080    \n",
            "_________________________________________________________________\n",
            "block3_pool (MaxPooling2D)   (None, 28, 28, 256)       0         \n",
            "_________________________________________________________________\n",
            "block4_conv1 (Conv2D)        (None, 28, 28, 512)       1180160   \n",
            "_________________________________________________________________\n",
            "block4_conv2 (Conv2D)        (None, 28, 28, 512)       2359808   \n",
            "_________________________________________________________________\n",
            "block4_conv3 (Conv2D)        (None, 28, 28, 512)       2359808   \n",
            "_________________________________________________________________\n",
            "block4_pool (MaxPooling2D)   (None, 14, 14, 512)       0         \n",
            "_________________________________________________________________\n",
            "block5_conv1 (Conv2D)        (None, 14, 14, 512)       2359808   \n",
            "_________________________________________________________________\n",
            "block5_conv2 (Conv2D)        (None, 14, 14, 512)       2359808   \n",
            "_________________________________________________________________\n",
            "block5_conv3 (Conv2D)        (None, 14, 14, 512)       2359808   \n",
            "_________________________________________________________________\n",
            "block5_pool (MaxPooling2D)   (None, 7, 7, 512)         0         \n",
            "_________________________________________________________________\n",
            "flatten_2 (Flatten)          (None, 25088)             0         \n",
            "=================================================================\n",
            "Total params: 14,714,688\n",
            "Trainable params: 14,714,688\n",
            "Non-trainable params: 0\n",
            "_________________________________________________________________\n"
          ],
          "name": "stdout"
        }
      ]
    },
    {
      "cell_type": "markdown",
      "metadata": {
        "id": "hywaC46aTCiT",
        "colab_type": "text"
      },
      "source": [
        "## 3 Loading 12 basic features and labels of training and testing segments\n",
        "\n",
        "Purpose:\n",
        "\n",
        "*   Labels of training data can be used to train the dense layer part in our transferred model to compress the embedding from (25088,) to (1024,)\n",
        "*   Features can be used to train xgboost model so that we can compare the performance of xgboost model with respect to the involvement of image embedding.\n",
        "\n"
      ]
    },
    {
      "cell_type": "code",
      "metadata": {
        "id": "GXlDxyUxZv_E",
        "colab_type": "code",
        "colab": {}
      },
      "source": [
        "import pandas as pd\n",
        "import numpy as np\n",
        "from os.path import join\n",
        "import glob\n",
        "import os\n",
        "\n",
        "# Chelsea's path to basic feature files of training and test segment\n",
        "training_prefix='/content/drive/My Drive/Waymo_data/transfer_learning_dataset/training'\n",
        "test_prefix='/content/drive/My Drive/Waymo_data/transfer_learning_dataset/validation'\n",
        "\n",
        "# Data is loading in the \n",
        "def load_data_from_files_with_id(prefix):\n",
        "    prefix = prefix.rstrip(os.sep)\n",
        "    files = [f for f in glob.iglob(join(prefix, join('**', '*.csv')), recursive=True)]\n",
        "\n",
        "    # to ensure features are loaded of which frames maps to the image loaded later on, \n",
        "    # so that basic feature and image embedding can be concated horizontally\n",
        "    files.sort()\n",
        "\n",
        "    print(\"Loading data from {} files...\".format(len(files)))\n",
        "\n",
        "    df_list = []\n",
        "    for i in range(len(files)):\n",
        "      df = pd.read_csv(files[i], header = 0)\n",
        "      idx = [i] * df.shape[0]\n",
        "      df['id'] = idx\n",
        "      df_list.append(df)\n",
        "    \n",
        "    data = pd.concat(df_list)\n",
        "    return data.set_index('id')"
      ],
      "execution_count": 0,
      "outputs": []
    },
    {
      "cell_type": "code",
      "metadata": {
        "id": "ZoJelIG0Z71j",
        "colab_type": "code",
        "outputId": "031b15b6-3155-492e-c734-4b04f2e04cb9",
        "colab": {
          "base_uri": "https://localhost:8080/",
          "height": 68
        }
      },
      "source": [
        "train = load_data_from_files_with_id(training_prefix)\n",
        "test = load_data_from_files_with_id(test_prefix)\n",
        "\n",
        "print(train.shape, test.shape)"
      ],
      "execution_count": 28,
      "outputs": [
        {
          "output_type": "stream",
          "text": [
            "Loading data from 50 files...\n",
            "Loading data from 25 files...\n",
            "(9922, 15) (4964, 15)\n"
          ],
          "name": "stdout"
        }
      ]
    },
    {
      "cell_type": "code",
      "metadata": {
        "id": "e6fhsWJUVHKO",
        "colab_type": "code",
        "outputId": "f334027a-1320-49b9-9870-b31fc27d2c66",
        "colab": {
          "base_uri": "https://localhost:8080/",
          "height": 235
        }
      },
      "source": [
        "train.head()"
      ],
      "execution_count": 29,
      "outputs": [
        {
          "output_type": "execute_result",
          "data": {
            "text/html": [
              "<div>\n",
              "<style scoped>\n",
              "    .dataframe tbody tr th:only-of-type {\n",
              "        vertical-align: middle;\n",
              "    }\n",
              "\n",
              "    .dataframe tbody tr th {\n",
              "        vertical-align: top;\n",
              "    }\n",
              "\n",
              "    .dataframe thead th {\n",
              "        text-align: right;\n",
              "    }\n",
              "</style>\n",
              "<table border=\"1\" class=\"dataframe\">\n",
              "  <thead>\n",
              "    <tr style=\"text-align: right;\">\n",
              "      <th></th>\n",
              "      <th>vx</th>\n",
              "      <th>vy</th>\n",
              "      <th>vz</th>\n",
              "      <th>dx</th>\n",
              "      <th>dy</th>\n",
              "      <th>vfx</th>\n",
              "      <th>vfy</th>\n",
              "      <th>vfz</th>\n",
              "      <th>afx</th>\n",
              "      <th>afy</th>\n",
              "      <th>afz</th>\n",
              "      <th>num_v_labels</th>\n",
              "      <th>ax</th>\n",
              "      <th>ay</th>\n",
              "      <th>az</th>\n",
              "    </tr>\n",
              "    <tr>\n",
              "      <th>id</th>\n",
              "      <th></th>\n",
              "      <th></th>\n",
              "      <th></th>\n",
              "      <th></th>\n",
              "      <th></th>\n",
              "      <th></th>\n",
              "      <th></th>\n",
              "      <th></th>\n",
              "      <th></th>\n",
              "      <th></th>\n",
              "      <th></th>\n",
              "      <th></th>\n",
              "      <th></th>\n",
              "      <th></th>\n",
              "      <th></th>\n",
              "    </tr>\n",
              "  </thead>\n",
              "  <tbody>\n",
              "    <tr>\n",
              "      <th>0</th>\n",
              "      <td>0.0</td>\n",
              "      <td>0.0</td>\n",
              "      <td>0.0</td>\n",
              "      <td>12.832332</td>\n",
              "      <td>-0.106879</td>\n",
              "      <td>2.686089e-29</td>\n",
              "      <td>5.332602e-29</td>\n",
              "      <td>-9.594011e-31</td>\n",
              "      <td>0.000000e+00</td>\n",
              "      <td>0.000000e+00</td>\n",
              "      <td>0.000000e+00</td>\n",
              "      <td>43.0</td>\n",
              "      <td>0.0</td>\n",
              "      <td>0.0</td>\n",
              "      <td>0.0</td>\n",
              "    </tr>\n",
              "    <tr>\n",
              "      <th>0</th>\n",
              "      <td>0.0</td>\n",
              "      <td>0.0</td>\n",
              "      <td>0.0</td>\n",
              "      <td>12.832294</td>\n",
              "      <td>-0.106869</td>\n",
              "      <td>2.350332e-29</td>\n",
              "      <td>4.666030e-29</td>\n",
              "      <td>-8.359340e-31</td>\n",
              "      <td>3.340616e-29</td>\n",
              "      <td>6.632056e-29</td>\n",
              "      <td>-1.228436e-30</td>\n",
              "      <td>43.0</td>\n",
              "      <td>0.0</td>\n",
              "      <td>0.0</td>\n",
              "      <td>0.0</td>\n",
              "    </tr>\n",
              "    <tr>\n",
              "      <th>0</th>\n",
              "      <td>0.0</td>\n",
              "      <td>0.0</td>\n",
              "      <td>0.0</td>\n",
              "      <td>12.832428</td>\n",
              "      <td>-0.106985</td>\n",
              "      <td>2.014567e-29</td>\n",
              "      <td>3.999451e-29</td>\n",
              "      <td>-7.195508e-31</td>\n",
              "      <td>3.340694e-29</td>\n",
              "      <td>6.632123e-29</td>\n",
              "      <td>-1.157954e-30</td>\n",
              "      <td>43.0</td>\n",
              "      <td>0.0</td>\n",
              "      <td>0.0</td>\n",
              "      <td>0.0</td>\n",
              "    </tr>\n",
              "    <tr>\n",
              "      <th>0</th>\n",
              "      <td>0.0</td>\n",
              "      <td>0.0</td>\n",
              "      <td>0.0</td>\n",
              "      <td>12.832391</td>\n",
              "      <td>-0.106895</td>\n",
              "      <td>1.678811e-29</td>\n",
              "      <td>3.332877e-29</td>\n",
              "      <td>-5.970958e-31</td>\n",
              "      <td>3.340605e-29</td>\n",
              "      <td>6.632079e-29</td>\n",
              "      <td>-1.218365e-30</td>\n",
              "      <td>43.0</td>\n",
              "      <td>0.0</td>\n",
              "      <td>0.0</td>\n",
              "      <td>0.0</td>\n",
              "    </tr>\n",
              "    <tr>\n",
              "      <th>0</th>\n",
              "      <td>0.0</td>\n",
              "      <td>0.0</td>\n",
              "      <td>0.0</td>\n",
              "      <td>12.832250</td>\n",
              "      <td>-0.106930</td>\n",
              "      <td>1.343042e-29</td>\n",
              "      <td>2.666298e-29</td>\n",
              "      <td>-4.817243e-31</td>\n",
              "      <td>3.340730e-29</td>\n",
              "      <td>6.632123e-29</td>\n",
              "      <td>-1.147888e-30</td>\n",
              "      <td>43.0</td>\n",
              "      <td>0.0</td>\n",
              "      <td>0.0</td>\n",
              "      <td>0.0</td>\n",
              "    </tr>\n",
              "  </tbody>\n",
              "</table>\n",
              "</div>"
            ],
            "text/plain": [
              "     vx   vy   vz         dx  ...  num_v_labels   ax   ay   az\n",
              "id                            ...                             \n",
              "0   0.0  0.0  0.0  12.832332  ...          43.0  0.0  0.0  0.0\n",
              "0   0.0  0.0  0.0  12.832294  ...          43.0  0.0  0.0  0.0\n",
              "0   0.0  0.0  0.0  12.832428  ...          43.0  0.0  0.0  0.0\n",
              "0   0.0  0.0  0.0  12.832391  ...          43.0  0.0  0.0  0.0\n",
              "0   0.0  0.0  0.0  12.832250  ...          43.0  0.0  0.0  0.0\n",
              "\n",
              "[5 rows x 15 columns]"
            ]
          },
          "metadata": {
            "tags": []
          },
          "execution_count": 29
        }
      ]
    },
    {
      "cell_type": "markdown",
      "metadata": {
        "id": "Vgtf2wa2jW1N",
        "colab_type": "text"
      },
      "source": [
        "## 4 Loading training and testing images for embedding extraction"
      ]
    },
    {
      "cell_type": "code",
      "metadata": {
        "id": "7lz1vq4aekqY",
        "colab_type": "code",
        "colab": {}
      },
      "source": [
        "from keras.preprocessing import image\n",
        "from keras.applications.vgg16 import preprocess_input\n",
        "from os import walk\n",
        "from os.path import join\n",
        "\n",
        "training_imgs_prefix = \"/content/drive/My Drive/Waymo_data/imgs/training\"\n",
        "test_imgs_prefix = \"/content/drive/My Drive/Waymo_data/imgs/validation\"\n",
        "\n",
        "def get_sorted_img_paths(prefix):\n",
        "  paths = []\n",
        "  for root, _21, files in walk(prefix, topdown=False):\n",
        "    for name in files:\n",
        "      paths.append(join(root, name))\n",
        "\n",
        "  # Same functionality as that of files.sort() in load_data_from_files_with_id\n",
        "  paths.sort()\n",
        "\n",
        "  print(\"Loading imgs from {} paths\".format(len(paths)))\n",
        "\n",
        "  return paths\n",
        "\n",
        "def load_imgs(img_paths, dest_path=None):\n",
        "  data = []\n",
        "  for i, img_path in enumerate(img_paths):\n",
        "    img = image.load_img(img_path, target_size=(224,224,3))\n",
        "    img_data = image.img_to_array(img)\n",
        "    data.append(np.expand_dims(img_data, axis=0))\n",
        "\n",
        "    if i % 10 == 0:\n",
        "      print(\"Progress: {}/{}\".format(i, len(img_paths)))\n",
        "\n",
        "  data_np = np.vstack(data)\n",
        "\n",
        "  # Save imgs to npy files for quicker access instead of loading \n",
        "  # a large number of images from time to time\n",
        "  # Next time can call img_np = np.load(dest_path) to load images\n",
        "  if dest_path:\n",
        "    print(\"Saving data to {}...\".format(dest_path))\n",
        "    np.save(dest_path, data_np)\n",
        "\n",
        "  return data_np"
      ],
      "execution_count": 0,
      "outputs": []
    },
    {
      "cell_type": "code",
      "metadata": {
        "id": "ZhgXpzM8ChIo",
        "colab_type": "code",
        "colab": {}
      },
      "source": [
        "training_embedding_prefix = \"/content/drive/My Drive/Waymo_data/img_embedding/training\"\n",
        "test_embedding_prefix = \"/content/drive/My Drive/Waymo_data/img_embedding/validation\"\n",
        "\n",
        "training_imgs_np_file = join(training_embedding_prefix, \"training_imgs.npy\")\n",
        "test_imgs_np_file = join(test_embedding_prefix, \"test_imgs.npy\")\n",
        "\n",
        "training_sparse_embedding_file = join(training_embedding_prefix, \"training_sparse_embedding.npy\")\n",
        "test_sparse_embedding_file = join(test_embedding_prefix, \"test_sparse_embedding.npy\")\n",
        "\n",
        "training_embedding_path = join(training_embedding_prefix, \"training_img_embedding.npy\")\n",
        "test_embedding_path = join(test_embedding_prefix, \"test_img_embedding.npy\")"
      ],
      "execution_count": 0,
      "outputs": []
    },
    {
      "cell_type": "code",
      "metadata": {
        "id": "nHFCrAz2mMdL",
        "colab_type": "code",
        "colab": {
          "base_uri": "https://localhost:8080/",
          "height": 1000
        },
        "outputId": "bbe104d6-60f3-44d1-c9ab-57ebeb87b6f9"
      },
      "source": [
        "sorted_training_img_paths = get_sorted_img_paths(training_imgs_prefix)\n",
        "training_imgs_np = load_imgs(sorted_training_img_paths, dest_path=training_imgs_np_file)\n",
        "\n",
        "sorted_test_img_paths = get_sorted_img_paths(test_imgs_prefix)\n",
        "test_imgs_np_file = load_imgs(sorted_test_img_paths, dest_path=test_imgs_np_file)"
      ],
      "execution_count": 23,
      "outputs": [
        {
          "output_type": "stream",
          "text": [
            "Loading imgs from 4964 paths\n",
            "Progress: 0/4964\n",
            "Progress: 10/4964\n",
            "Progress: 20/4964\n",
            "Progress: 30/4964\n",
            "Progress: 40/4964\n",
            "Progress: 50/4964\n",
            "Progress: 60/4964\n",
            "Progress: 70/4964\n",
            "Progress: 80/4964\n",
            "Progress: 90/4964\n",
            "Progress: 100/4964\n",
            "Progress: 110/4964\n",
            "Progress: 120/4964\n",
            "Progress: 130/4964\n",
            "Progress: 140/4964\n",
            "Progress: 150/4964\n",
            "Progress: 160/4964\n",
            "Progress: 170/4964\n",
            "Progress: 180/4964\n",
            "Progress: 190/4964\n",
            "Progress: 200/4964\n",
            "Progress: 210/4964\n",
            "Progress: 220/4964\n",
            "Progress: 230/4964\n",
            "Progress: 240/4964\n",
            "Progress: 250/4964\n",
            "Progress: 260/4964\n",
            "Progress: 270/4964\n",
            "Progress: 280/4964\n",
            "Progress: 290/4964\n",
            "Progress: 300/4964\n",
            "Progress: 310/4964\n",
            "Progress: 320/4964\n",
            "Progress: 330/4964\n",
            "Progress: 340/4964\n",
            "Progress: 350/4964\n",
            "Progress: 360/4964\n",
            "Progress: 370/4964\n",
            "Progress: 380/4964\n",
            "Progress: 390/4964\n",
            "Progress: 400/4964\n",
            "Progress: 410/4964\n",
            "Progress: 420/4964\n",
            "Progress: 430/4964\n",
            "Progress: 440/4964\n",
            "Progress: 450/4964\n",
            "Progress: 460/4964\n",
            "Progress: 470/4964\n",
            "Progress: 480/4964\n",
            "Progress: 490/4964\n",
            "Progress: 500/4964\n",
            "Progress: 510/4964\n",
            "Progress: 520/4964\n",
            "Progress: 530/4964\n",
            "Progress: 540/4964\n",
            "Progress: 550/4964\n",
            "Progress: 560/4964\n",
            "Progress: 570/4964\n",
            "Progress: 580/4964\n",
            "Progress: 590/4964\n",
            "Progress: 600/4964\n",
            "Progress: 610/4964\n",
            "Progress: 620/4964\n",
            "Progress: 630/4964\n",
            "Progress: 640/4964\n",
            "Progress: 650/4964\n",
            "Progress: 660/4964\n",
            "Progress: 670/4964\n",
            "Progress: 680/4964\n",
            "Progress: 690/4964\n",
            "Progress: 700/4964\n",
            "Progress: 710/4964\n",
            "Progress: 720/4964\n",
            "Progress: 730/4964\n",
            "Progress: 740/4964\n",
            "Progress: 750/4964\n",
            "Progress: 760/4964\n",
            "Progress: 770/4964\n",
            "Progress: 780/4964\n",
            "Progress: 790/4964\n",
            "Progress: 800/4964\n",
            "Progress: 810/4964\n",
            "Progress: 820/4964\n",
            "Progress: 830/4964\n",
            "Progress: 840/4964\n",
            "Progress: 850/4964\n",
            "Progress: 860/4964\n",
            "Progress: 870/4964\n",
            "Progress: 880/4964\n",
            "Progress: 890/4964\n",
            "Progress: 900/4964\n",
            "Progress: 910/4964\n",
            "Progress: 920/4964\n",
            "Progress: 930/4964\n",
            "Progress: 940/4964\n",
            "Progress: 950/4964\n",
            "Progress: 960/4964\n",
            "Progress: 970/4964\n",
            "Progress: 980/4964\n",
            "Progress: 990/4964\n",
            "Progress: 1000/4964\n",
            "Progress: 1010/4964\n",
            "Progress: 1020/4964\n",
            "Progress: 1030/4964\n",
            "Progress: 1040/4964\n",
            "Progress: 1050/4964\n",
            "Progress: 1060/4964\n",
            "Progress: 1070/4964\n",
            "Progress: 1080/4964\n",
            "Progress: 1090/4964\n",
            "Progress: 1100/4964\n",
            "Progress: 1110/4964\n",
            "Progress: 1120/4964\n",
            "Progress: 1130/4964\n",
            "Progress: 1140/4964\n",
            "Progress: 1150/4964\n",
            "Progress: 1160/4964\n",
            "Progress: 1170/4964\n",
            "Progress: 1180/4964\n",
            "Progress: 1190/4964\n",
            "Progress: 1200/4964\n",
            "Progress: 1210/4964\n",
            "Progress: 1220/4964\n",
            "Progress: 1230/4964\n",
            "Progress: 1240/4964\n",
            "Progress: 1250/4964\n",
            "Progress: 1260/4964\n",
            "Progress: 1270/4964\n",
            "Progress: 1280/4964\n",
            "Progress: 1290/4964\n",
            "Progress: 1300/4964\n",
            "Progress: 1310/4964\n",
            "Progress: 1320/4964\n",
            "Progress: 1330/4964\n",
            "Progress: 1340/4964\n",
            "Progress: 1350/4964\n",
            "Progress: 1360/4964\n",
            "Progress: 1370/4964\n",
            "Progress: 1380/4964\n",
            "Progress: 1390/4964\n",
            "Progress: 1400/4964\n",
            "Progress: 1410/4964\n",
            "Progress: 1420/4964\n",
            "Progress: 1430/4964\n",
            "Progress: 1440/4964\n",
            "Progress: 1450/4964\n",
            "Progress: 1460/4964\n",
            "Progress: 1470/4964\n",
            "Progress: 1480/4964\n",
            "Progress: 1490/4964\n",
            "Progress: 1500/4964\n",
            "Progress: 1510/4964\n",
            "Progress: 1520/4964\n",
            "Progress: 1530/4964\n",
            "Progress: 1540/4964\n",
            "Progress: 1550/4964\n",
            "Progress: 1560/4964\n",
            "Progress: 1570/4964\n",
            "Progress: 1580/4964\n",
            "Progress: 1590/4964\n",
            "Progress: 1600/4964\n",
            "Progress: 1610/4964\n",
            "Progress: 1620/4964\n",
            "Progress: 1630/4964\n",
            "Progress: 1640/4964\n",
            "Progress: 1650/4964\n",
            "Progress: 1660/4964\n",
            "Progress: 1670/4964\n",
            "Progress: 1680/4964\n",
            "Progress: 1690/4964\n",
            "Progress: 1700/4964\n",
            "Progress: 1710/4964\n",
            "Progress: 1720/4964\n",
            "Progress: 1730/4964\n",
            "Progress: 1740/4964\n",
            "Progress: 1750/4964\n",
            "Progress: 1760/4964\n",
            "Progress: 1770/4964\n",
            "Progress: 1780/4964\n",
            "Progress: 1790/4964\n",
            "Progress: 1800/4964\n",
            "Progress: 1810/4964\n",
            "Progress: 1820/4964\n",
            "Progress: 1830/4964\n",
            "Progress: 1840/4964\n",
            "Progress: 1850/4964\n",
            "Progress: 1860/4964\n",
            "Progress: 1870/4964\n",
            "Progress: 1880/4964\n",
            "Progress: 1890/4964\n",
            "Progress: 1900/4964\n",
            "Progress: 1910/4964\n",
            "Progress: 1920/4964\n",
            "Progress: 1930/4964\n",
            "Progress: 1940/4964\n",
            "Progress: 1950/4964\n",
            "Progress: 1960/4964\n",
            "Progress: 1970/4964\n",
            "Progress: 1980/4964\n",
            "Progress: 1990/4964\n",
            "Progress: 2000/4964\n",
            "Progress: 2010/4964\n",
            "Progress: 2020/4964\n",
            "Progress: 2030/4964\n",
            "Progress: 2040/4964\n",
            "Progress: 2050/4964\n",
            "Progress: 2060/4964\n",
            "Progress: 2070/4964\n",
            "Progress: 2080/4964\n",
            "Progress: 2090/4964\n",
            "Progress: 2100/4964\n",
            "Progress: 2110/4964\n",
            "Progress: 2120/4964\n",
            "Progress: 2130/4964\n",
            "Progress: 2140/4964\n",
            "Progress: 2150/4964\n",
            "Progress: 2160/4964\n",
            "Progress: 2170/4964\n",
            "Progress: 2180/4964\n",
            "Progress: 2190/4964\n",
            "Progress: 2200/4964\n",
            "Progress: 2210/4964\n",
            "Progress: 2220/4964\n",
            "Progress: 2230/4964\n",
            "Progress: 2240/4964\n",
            "Progress: 2250/4964\n",
            "Progress: 2260/4964\n",
            "Progress: 2270/4964\n",
            "Progress: 2280/4964\n",
            "Progress: 2290/4964\n",
            "Progress: 2300/4964\n",
            "Progress: 2310/4964\n",
            "Progress: 2320/4964\n",
            "Progress: 2330/4964\n",
            "Progress: 2340/4964\n",
            "Progress: 2350/4964\n",
            "Progress: 2360/4964\n",
            "Progress: 2370/4964\n",
            "Progress: 2380/4964\n",
            "Progress: 2390/4964\n",
            "Progress: 2400/4964\n",
            "Progress: 2410/4964\n",
            "Progress: 2420/4964\n",
            "Progress: 2430/4964\n",
            "Progress: 2440/4964\n",
            "Progress: 2450/4964\n",
            "Progress: 2460/4964\n",
            "Progress: 2470/4964\n",
            "Progress: 2480/4964\n",
            "Progress: 2490/4964\n",
            "Progress: 2500/4964\n",
            "Progress: 2510/4964\n",
            "Progress: 2520/4964\n",
            "Progress: 2530/4964\n",
            "Progress: 2540/4964\n",
            "Progress: 2550/4964\n",
            "Progress: 2560/4964\n",
            "Progress: 2570/4964\n",
            "Progress: 2580/4964\n",
            "Progress: 2590/4964\n",
            "Progress: 2600/4964\n",
            "Progress: 2610/4964\n",
            "Progress: 2620/4964\n",
            "Progress: 2630/4964\n",
            "Progress: 2640/4964\n",
            "Progress: 2650/4964\n",
            "Progress: 2660/4964\n",
            "Progress: 2670/4964\n",
            "Progress: 2680/4964\n",
            "Progress: 2690/4964\n",
            "Progress: 2700/4964\n",
            "Progress: 2710/4964\n",
            "Progress: 2720/4964\n",
            "Progress: 2730/4964\n",
            "Progress: 2740/4964\n",
            "Progress: 2750/4964\n",
            "Progress: 2760/4964\n",
            "Progress: 2770/4964\n",
            "Progress: 2780/4964\n",
            "Progress: 2790/4964\n",
            "Progress: 2800/4964\n",
            "Progress: 2810/4964\n",
            "Progress: 2820/4964\n",
            "Progress: 2830/4964\n",
            "Progress: 2840/4964\n",
            "Progress: 2850/4964\n",
            "Progress: 2860/4964\n",
            "Progress: 2870/4964\n",
            "Progress: 2880/4964\n",
            "Progress: 2890/4964\n",
            "Progress: 2900/4964\n",
            "Progress: 2910/4964\n",
            "Progress: 2920/4964\n",
            "Progress: 2930/4964\n",
            "Progress: 2940/4964\n",
            "Progress: 2950/4964\n",
            "Progress: 2960/4964\n",
            "Progress: 2970/4964\n",
            "Progress: 2980/4964\n",
            "Progress: 2990/4964\n",
            "Progress: 3000/4964\n",
            "Progress: 3010/4964\n",
            "Progress: 3020/4964\n",
            "Progress: 3030/4964\n",
            "Progress: 3040/4964\n",
            "Progress: 3050/4964\n",
            "Progress: 3060/4964\n",
            "Progress: 3070/4964\n",
            "Progress: 3080/4964\n",
            "Progress: 3090/4964\n",
            "Progress: 3100/4964\n",
            "Progress: 3110/4964\n",
            "Progress: 3120/4964\n",
            "Progress: 3130/4964\n",
            "Progress: 3140/4964\n",
            "Progress: 3150/4964\n",
            "Progress: 3160/4964\n",
            "Progress: 3170/4964\n",
            "Progress: 3180/4964\n",
            "Progress: 3190/4964\n",
            "Progress: 3200/4964\n",
            "Progress: 3210/4964\n",
            "Progress: 3220/4964\n",
            "Progress: 3230/4964\n",
            "Progress: 3240/4964\n",
            "Progress: 3250/4964\n",
            "Progress: 3260/4964\n",
            "Progress: 3270/4964\n",
            "Progress: 3280/4964\n",
            "Progress: 3290/4964\n",
            "Progress: 3300/4964\n",
            "Progress: 3310/4964\n",
            "Progress: 3320/4964\n",
            "Progress: 3330/4964\n",
            "Progress: 3340/4964\n",
            "Progress: 3350/4964\n",
            "Progress: 3360/4964\n",
            "Progress: 3370/4964\n",
            "Progress: 3380/4964\n",
            "Progress: 3390/4964\n",
            "Progress: 3400/4964\n",
            "Progress: 3410/4964\n",
            "Progress: 3420/4964\n",
            "Progress: 3430/4964\n",
            "Progress: 3440/4964\n",
            "Progress: 3450/4964\n",
            "Progress: 3460/4964\n",
            "Progress: 3470/4964\n",
            "Progress: 3480/4964\n",
            "Progress: 3490/4964\n",
            "Progress: 3500/4964\n",
            "Progress: 3510/4964\n",
            "Progress: 3520/4964\n",
            "Progress: 3530/4964\n",
            "Progress: 3540/4964\n",
            "Progress: 3550/4964\n",
            "Progress: 3560/4964\n",
            "Progress: 3570/4964\n",
            "Progress: 3580/4964\n",
            "Progress: 3590/4964\n",
            "Progress: 3600/4964\n",
            "Progress: 3610/4964\n",
            "Progress: 3620/4964\n",
            "Progress: 3630/4964\n",
            "Progress: 3640/4964\n",
            "Progress: 3650/4964\n",
            "Progress: 3660/4964\n",
            "Progress: 3670/4964\n",
            "Progress: 3680/4964\n",
            "Progress: 3690/4964\n",
            "Progress: 3700/4964\n",
            "Progress: 3710/4964\n",
            "Progress: 3720/4964\n",
            "Progress: 3730/4964\n",
            "Progress: 3740/4964\n",
            "Progress: 3750/4964\n",
            "Progress: 3760/4964\n",
            "Progress: 3770/4964\n",
            "Progress: 3780/4964\n",
            "Progress: 3790/4964\n",
            "Progress: 3800/4964\n",
            "Progress: 3810/4964\n",
            "Progress: 3820/4964\n",
            "Progress: 3830/4964\n",
            "Progress: 3840/4964\n",
            "Progress: 3850/4964\n",
            "Progress: 3860/4964\n",
            "Progress: 3870/4964\n",
            "Progress: 3880/4964\n",
            "Progress: 3890/4964\n",
            "Progress: 3900/4964\n",
            "Progress: 3910/4964\n",
            "Progress: 3920/4964\n",
            "Progress: 3930/4964\n",
            "Progress: 3940/4964\n",
            "Progress: 3950/4964\n",
            "Progress: 3960/4964\n",
            "Progress: 3970/4964\n",
            "Progress: 3980/4964\n",
            "Progress: 3990/4964\n",
            "Progress: 4000/4964\n",
            "Progress: 4010/4964\n",
            "Progress: 4020/4964\n",
            "Progress: 4030/4964\n",
            "Progress: 4040/4964\n",
            "Progress: 4050/4964\n",
            "Progress: 4060/4964\n",
            "Progress: 4070/4964\n",
            "Progress: 4080/4964\n",
            "Progress: 4090/4964\n",
            "Progress: 4100/4964\n",
            "Progress: 4110/4964\n",
            "Progress: 4120/4964\n",
            "Progress: 4130/4964\n",
            "Progress: 4140/4964\n",
            "Progress: 4150/4964\n",
            "Progress: 4160/4964\n",
            "Progress: 4170/4964\n",
            "Progress: 4180/4964\n",
            "Progress: 4190/4964\n",
            "Progress: 4200/4964\n",
            "Progress: 4210/4964\n",
            "Progress: 4220/4964\n",
            "Progress: 4230/4964\n",
            "Progress: 4240/4964\n",
            "Progress: 4250/4964\n",
            "Progress: 4260/4964\n",
            "Progress: 4270/4964\n",
            "Progress: 4280/4964\n",
            "Progress: 4290/4964\n",
            "Progress: 4300/4964\n",
            "Progress: 4310/4964\n",
            "Progress: 4320/4964\n",
            "Progress: 4330/4964\n",
            "Progress: 4340/4964\n",
            "Progress: 4350/4964\n",
            "Progress: 4360/4964\n",
            "Progress: 4370/4964\n",
            "Progress: 4380/4964\n",
            "Progress: 4390/4964\n",
            "Progress: 4400/4964\n",
            "Progress: 4410/4964\n",
            "Progress: 4420/4964\n",
            "Progress: 4430/4964\n",
            "Progress: 4440/4964\n",
            "Progress: 4450/4964\n",
            "Progress: 4460/4964\n",
            "Progress: 4470/4964\n",
            "Progress: 4480/4964\n",
            "Progress: 4490/4964\n",
            "Progress: 4500/4964\n",
            "Progress: 4510/4964\n",
            "Progress: 4520/4964\n",
            "Progress: 4530/4964\n",
            "Progress: 4540/4964\n",
            "Progress: 4550/4964\n",
            "Progress: 4560/4964\n",
            "Progress: 4570/4964\n",
            "Progress: 4580/4964\n",
            "Progress: 4590/4964\n",
            "Progress: 4600/4964\n",
            "Progress: 4610/4964\n",
            "Progress: 4620/4964\n",
            "Progress: 4630/4964\n",
            "Progress: 4640/4964\n",
            "Progress: 4650/4964\n",
            "Progress: 4660/4964\n",
            "Progress: 4670/4964\n",
            "Progress: 4680/4964\n",
            "Progress: 4690/4964\n",
            "Progress: 4700/4964\n",
            "Progress: 4710/4964\n",
            "Progress: 4720/4964\n",
            "Progress: 4730/4964\n",
            "Progress: 4740/4964\n",
            "Progress: 4750/4964\n",
            "Progress: 4760/4964\n",
            "Progress: 4770/4964\n",
            "Progress: 4780/4964\n",
            "Progress: 4790/4964\n",
            "Progress: 4800/4964\n",
            "Progress: 4810/4964\n",
            "Progress: 4820/4964\n",
            "Progress: 4830/4964\n",
            "Progress: 4840/4964\n",
            "Progress: 4850/4964\n",
            "Progress: 4860/4964\n",
            "Progress: 4870/4964\n",
            "Progress: 4880/4964\n",
            "Progress: 4890/4964\n",
            "Progress: 4900/4964\n",
            "Progress: 4910/4964\n",
            "Progress: 4920/4964\n",
            "Progress: 4930/4964\n",
            "Progress: 4940/4964\n",
            "Progress: 4950/4964\n",
            "Progress: 4960/4964\n",
            "Saving data to test_imgs.npy...\n"
          ],
          "name": "stdout"
        }
      ]
    },
    {
      "cell_type": "code",
      "metadata": {
        "id": "MTNdn0IfmJnz",
        "colab_type": "code",
        "colab": {
          "base_uri": "https://localhost:8080/",
          "height": 51
        },
        "outputId": "015a9fc4-cce7-47bf-f441-65807a62e417"
      },
      "source": [
        "# Quicker loading\n",
        "training_img_np = np.load(training_imgs_np_file)\n",
        "test_img_np = np.load(test_imgs_np_file)\n",
        "\n",
        "print(training_img_np.shape, test_img_np.shape)\n",
        "\n",
        "training_embedding_sparse = transferred_model.predict(training_img_np)\n",
        "test_embedding_sparse = transferred_model.predict(test_img_np)\n",
        "\n",
        "print(training_embedding_sparse.shape, test_embedding_sparse.shape)\n",
        "\n",
        "# np.save(training_sparse_embedding_file, training_embedding_sparse)\n",
        "# np.save(test_sparse_embedding_file, test_embedding_sparse)"
      ],
      "execution_count": 35,
      "outputs": [
        {
          "output_type": "stream",
          "text": [
            "(9922, 224, 224, 3) (4964, 224, 224, 3)\n",
            "(9922, 25088) (4964, 25088)\n"
          ],
          "name": "stdout"
        }
      ]
    },
    {
      "cell_type": "markdown",
      "metadata": {
        "id": "7gGD7xZdmagi",
        "colab_type": "text"
      },
      "source": [
        "## 5 Training dense layer to compress embedding\n",
        "\n",
        "One model per label (either 'ax' or 'ay')"
      ]
    },
    {
      "cell_type": "code",
      "metadata": {
        "id": "BoQf5N2ZTHiy",
        "colab_type": "code",
        "outputId": "9222ac1d-174f-40ea-f89c-1adf85f3a946",
        "colab": {
          "base_uri": "https://localhost:8080/",
          "height": 289
        }
      },
      "source": [
        "import pandas as pd\n",
        "import keras\n",
        "from keras.layers import Conv1D\n",
        "from keras.layers import Dense\n",
        "from keras.optimizers import SGD\n",
        "from keras.layers import Flatten\n",
        "from sklearn.model_selection import train_test_split\n",
        "from sklearn.compose import make_column_transformer\n",
        "from sklearn.preprocessing import StandardScaler\n",
        "from sklearn.pipeline import make_pipeline\n",
        "from keras.models import Sequential\n",
        "from keras.layers import Dense\n",
        "\n",
        "embedding_dims = 25088\n",
        "\n",
        "fc_model = Sequential()\n",
        "fc_model.add(Dense(4096, input_dim=embedding_dims, activation='relu'))\n",
        "fc_model.add(Dense(1024, activation='relu'))\n",
        "fc_model.add(Dense(128, activation='relu'))\n",
        "fc_model.add(Dense(1, activation='sigmoid'))\n",
        "epochs = 5\n",
        "lrate = 0.01\n",
        "decay = lrate/epochs\n",
        "fc_model.compile(loss='mean_absolute_error', optimizer='rmsprop', metrics = ['mae'])\n",
        "fc_model.summary()\n"
      ],
      "execution_count": 36,
      "outputs": [
        {
          "output_type": "stream",
          "text": [
            "Model: \"sequential_2\"\n",
            "_________________________________________________________________\n",
            "Layer (type)                 Output Shape              Param #   \n",
            "=================================================================\n",
            "dense_5 (Dense)              (None, 4096)              102764544 \n",
            "_________________________________________________________________\n",
            "dense_6 (Dense)              (None, 1024)              4195328   \n",
            "_________________________________________________________________\n",
            "dense_7 (Dense)              (None, 128)               131200    \n",
            "_________________________________________________________________\n",
            "dense_8 (Dense)              (None, 1)                 129       \n",
            "=================================================================\n",
            "Total params: 107,091,201\n",
            "Trainable params: 107,091,201\n",
            "Non-trainable params: 0\n",
            "_________________________________________________________________\n"
          ],
          "name": "stdout"
        }
      ]
    },
    {
      "cell_type": "code",
      "metadata": {
        "id": "GY90V9r8Vb99",
        "colab_type": "code",
        "outputId": "21305e6f-30ed-4854-a84f-73fd05040b4d",
        "colab": {
          "base_uri": "https://localhost:8080/",
          "height": 34
        }
      },
      "source": [
        "# Your own training and test sparse embedding paths\n",
        "X_train = np.load(training_sparse_embedding_file)\n",
        "X_test = np.load(test_sparse_embedding_file)\n",
        "\n",
        "y_train = train.loc[:,['ax']]\n",
        "print(X_train.shape, y_train.shape)"
      ],
      "execution_count": 38,
      "outputs": [
        {
          "output_type": "stream",
          "text": [
            "(9922, 25088) (9922, 1)\n"
          ],
          "name": "stdout"
        }
      ]
    },
    {
      "cell_type": "code",
      "metadata": {
        "id": "pqJrmuXZQb7K",
        "colab_type": "code",
        "outputId": "62303001-97bf-43e2-d9fd-796fe4490251",
        "colab": {
          "base_uri": "https://localhost:8080/",
          "height": 204
        }
      },
      "source": [
        "fc_model.fit(X_train, y_train, epochs=epochs)"
      ],
      "execution_count": 39,
      "outputs": [
        {
          "output_type": "stream",
          "text": [
            "Epoch 1/5\n",
            "9922/9922 [==============================] - 12s 1ms/step - loss: 0.3051 - mean_absolute_error: 0.3051\n",
            "Epoch 2/5\n",
            "9922/9922 [==============================] - 10s 981us/step - loss: 0.3050 - mean_absolute_error: 0.3050\n",
            "Epoch 3/5\n",
            "9922/9922 [==============================] - 9s 938us/step - loss: 0.3050 - mean_absolute_error: 0.3050\n",
            "Epoch 4/5\n",
            "9922/9922 [==============================] - 9s 957us/step - loss: 0.3050 - mean_absolute_error: 0.3050\n",
            "Epoch 5/5\n",
            "9922/9922 [==============================] - 9s 950us/step - loss: 0.3050 - mean_absolute_error: 0.3050\n"
          ],
          "name": "stdout"
        },
        {
          "output_type": "execute_result",
          "data": {
            "text/plain": [
              "<keras.callbacks.History at 0x7feba0500898>"
            ]
          },
          "metadata": {
            "tags": []
          },
          "execution_count": 39
        }
      ]
    },
    {
      "cell_type": "markdown",
      "metadata": {
        "id": "ikNT5g1xnW16",
        "colab_type": "text"
      },
      "source": [
        "## 6 Getting the intermediate output of the dense layer \n",
        "to be our final embedding"
      ]
    },
    {
      "cell_type": "code",
      "metadata": {
        "id": "Fmv7bQK0YeHS",
        "colab_type": "code",
        "outputId": "ca614f83-418c-4332-cb13-204c11322671",
        "colab": {
          "base_uri": "https://localhost:8080/",
          "height": 255
        }
      },
      "source": [
        "# Embedding model\n",
        "# Get the name of intermediate layer from the summary above\n",
        "embedding_output = fc_model.get_layer(\"dense_6\").output\n",
        "embedding_model = Model(inputs=fc_model.input, outputs=embedding_output)\n",
        "embedding_model.summary()\n",
        "\n",
        "# Image embedding of training images\n",
        "train_embedding = embedding_model.predict(X_train)\n",
        "# np.save(training_embedding_path, train_embedding)\n",
        "\n",
        "# Image embedding of testing images\n",
        "test_embedding = embedding_model.predict(X_test)\n",
        "# np.save(test_embedding_path, test_embedding)"
      ],
      "execution_count": 41,
      "outputs": [
        {
          "output_type": "stream",
          "text": [
            "Model: \"model_4\"\n",
            "_________________________________________________________________\n",
            "Layer (type)                 Output Shape              Param #   \n",
            "=================================================================\n",
            "dense_5_input (InputLayer)   (None, 25088)             0         \n",
            "_________________________________________________________________\n",
            "dense_5 (Dense)              (None, 4096)              102764544 \n",
            "_________________________________________________________________\n",
            "dense_6 (Dense)              (None, 1024)              4195328   \n",
            "=================================================================\n",
            "Total params: 106,959,872\n",
            "Trainable params: 106,959,872\n",
            "Non-trainable params: 0\n",
            "_________________________________________________________________\n"
          ],
          "name": "stdout"
        }
      ]
    },
    {
      "cell_type": "markdown",
      "metadata": {
        "id": "AFzTHevzodwz",
        "colab_type": "text"
      },
      "source": [
        "## 7 Performance Comparison"
      ]
    },
    {
      "cell_type": "code",
      "metadata": {
        "id": "n8LlKRTxomDK",
        "colab_type": "code",
        "colab": {}
      },
      "source": [
        "import pandas as pd\n",
        "import numpy as np\n",
        "import xgboost\n",
        "from xgboost import plot_importance\n",
        "from lightgbm import LGBMRegressor\n",
        "from mlxtend.regressor import StackingRegressor\n",
        "from sklearn.linear_model import Lasso\n",
        "from sklearn.model_selection import train_test_split\n",
        "from sklearn.compose import make_column_transformer\n",
        "from sklearn.preprocessing import StandardScaler\n",
        "from sklearn.preprocessing import RobustScaler\n",
        "from sklearn.pipeline import make_pipeline\n",
        "from sklearn.model_selection import cross_val_score\n",
        "from sklearn.ensemble import GradientBoostingRegressor\n",
        "from sklearn.metrics import mean_absolute_error\n",
        "\n",
        "import matplotlib.pyplot as plt"
      ],
      "execution_count": 0,
      "outputs": []
    },
    {
      "cell_type": "markdown",
      "metadata": {
        "id": "VgSprLwnm7o9",
        "colab_type": "text"
      },
      "source": [
        "## 7.1 Baseline XGBoost with 12 basic feature"
      ]
    },
    {
      "cell_type": "code",
      "metadata": {
        "id": "0wUAtfRVooNC",
        "colab_type": "code",
        "colab": {
          "base_uri": "https://localhost:8080/",
          "height": 68
        },
        "outputId": "6c279116-e0ca-46d9-b607-614b0220c32c"
      },
      "source": [
        "X_train_basic = train.loc[:,['vx', 'vy', 'vz', 'dx', 'dy', 'vfx', 'vfy', 'vfz', 'afx', 'afy', 'afz', 'num_v_labels']] \n",
        "X_test_basic = test.loc[:,['vx', 'vy', 'vz', 'dx', 'dy', 'vfx', 'vfy', 'vfz', 'afx', 'afy', 'afz', 'num_v_labels' ]]\n",
        "\n",
        "Y_train = train.loc[:,['ax']].values.ravel()\n",
        "Y_test = test.loc[:,['ax']].values.ravel()\n",
        "\n",
        "X_train, X_val, y_train, y_val = train_test_split(X_train_basic, Y_train)\n",
        "\n",
        "print(\"X_train.shape = {}, X_test.shape = {}\".format(X_train.shape, X_val.shape))\n",
        "print(\"y_train.shape = {}, y_test.shape = {}\".format(y_train.shape, y_val.shape))\n",
        "print(X_test_basic.shape)"
      ],
      "execution_count": 43,
      "outputs": [
        {
          "output_type": "stream",
          "text": [
            "X_train.shape = (7441, 12), X_test.shape = (2481, 12)\n",
            "y_train.shape = (7441,), y_test.shape = (2481,)\n",
            "(4964, 12)\n"
          ],
          "name": "stdout"
        }
      ]
    },
    {
      "cell_type": "code",
      "metadata": {
        "id": "R8ALg1AlWI4n",
        "colab_type": "code",
        "colab": {}
      },
      "source": [
        "# GPU\n",
        "model_XGB_ax_regressor_basic = xgboost.XGBRegressor(\n",
        "        gamma=0.05,learning_rate=0.05, max_depth=6,\n",
        "        n_estimators=2500,reg_alpha=0.5, reg_lambda=0.85, \n",
        "        tree_method='gpu_hist', gpu_id=0)"
      ],
      "execution_count": 0,
      "outputs": []
    },
    {
      "cell_type": "code",
      "metadata": {
        "id": "WwFxGBuvWMkJ",
        "colab_type": "code",
        "outputId": "f26780f2-3a9f-4435-8ede-8e4a297ef1e8",
        "colab": {
          "base_uri": "https://localhost:8080/",
          "height": 153
        }
      },
      "source": [
        "model_XGB_ax_regressor_basic.fit(X_train, y_train,\n",
        "        eval_set=[(X_train, y_train), (X_val, y_val)],\n",
        "        early_stopping_rounds=50, verbose=False)"
      ],
      "execution_count": 45,
      "outputs": [
        {
          "output_type": "stream",
          "text": [
            "[08:01:16] WARNING: /workspace/src/objective/regression_obj.cu:152: reg:linear is now deprecated in favor of reg:squarederror.\n"
          ],
          "name": "stdout"
        },
        {
          "output_type": "execute_result",
          "data": {
            "text/plain": [
              "XGBRegressor(base_score=0.5, booster='gbtree', colsample_bylevel=1,\n",
              "             colsample_bynode=1, colsample_bytree=1, gamma=0.05, gpu_id=0,\n",
              "             importance_type='gain', learning_rate=0.05, max_delta_step=0,\n",
              "             max_depth=6, min_child_weight=1, missing=None, n_estimators=2500,\n",
              "             n_jobs=1, nthread=None, objective='reg:linear', random_state=0,\n",
              "             reg_alpha=0.5, reg_lambda=0.85, scale_pos_weight=1, seed=None,\n",
              "             silent=None, subsample=1, tree_method='gpu_hist', verbosity=1)"
            ]
          },
          "metadata": {
            "tags": []
          },
          "execution_count": 45
        }
      ]
    },
    {
      "cell_type": "code",
      "metadata": {
        "id": "02GPzAr6V6LB",
        "colab_type": "code",
        "outputId": "28902bcc-86c7-4da2-ef59-b9b4fc11b6ce",
        "colab": {
          "base_uri": "https://localhost:8080/",
          "height": 51
        }
      },
      "source": [
        "model_name = \"baseline\"\n",
        "y_label = \"ax\"\n",
        "\n",
        "print(\"Predicting {} on test data..\".format(model_name))\n",
        "pred_Y = model_XGB_ax_regressor_basic.predict(X_test_basic)\n",
        "print(\"MAE of {} for {} is {}\".format(model_name, y_label, mean_absolute_error(pred_Y, Y_test)))"
      ],
      "execution_count": 46,
      "outputs": [
        {
          "output_type": "stream",
          "text": [
            "Predicting baseline on test data..\n",
            "MAE of baseline for ax is 0.3364338257303988\n"
          ],
          "name": "stdout"
        }
      ]
    },
    {
      "cell_type": "code",
      "metadata": {
        "id": "2XwFpBXIATnS",
        "colab_type": "code",
        "outputId": "780f690c-9a56-466c-9d75-a3ef4e6cf7cd",
        "colab": {
          "base_uri": "https://localhost:8080/",
          "height": 235
        }
      },
      "source": [
        "test.head()"
      ],
      "execution_count": 20,
      "outputs": [
        {
          "output_type": "execute_result",
          "data": {
            "text/html": [
              "<div>\n",
              "<style scoped>\n",
              "    .dataframe tbody tr th:only-of-type {\n",
              "        vertical-align: middle;\n",
              "    }\n",
              "\n",
              "    .dataframe tbody tr th {\n",
              "        vertical-align: top;\n",
              "    }\n",
              "\n",
              "    .dataframe thead th {\n",
              "        text-align: right;\n",
              "    }\n",
              "</style>\n",
              "<table border=\"1\" class=\"dataframe\">\n",
              "  <thead>\n",
              "    <tr style=\"text-align: right;\">\n",
              "      <th></th>\n",
              "      <th>vx</th>\n",
              "      <th>vy</th>\n",
              "      <th>vz</th>\n",
              "      <th>dx</th>\n",
              "      <th>dy</th>\n",
              "      <th>vfx</th>\n",
              "      <th>vfy</th>\n",
              "      <th>vfz</th>\n",
              "      <th>afx</th>\n",
              "      <th>afy</th>\n",
              "      <th>afz</th>\n",
              "      <th>num_v_labels</th>\n",
              "      <th>ax</th>\n",
              "      <th>ay</th>\n",
              "      <th>az</th>\n",
              "    </tr>\n",
              "    <tr>\n",
              "      <th>id</th>\n",
              "      <th></th>\n",
              "      <th></th>\n",
              "      <th></th>\n",
              "      <th></th>\n",
              "      <th></th>\n",
              "      <th></th>\n",
              "      <th></th>\n",
              "      <th></th>\n",
              "      <th></th>\n",
              "      <th></th>\n",
              "      <th></th>\n",
              "      <th></th>\n",
              "      <th></th>\n",
              "      <th></th>\n",
              "      <th></th>\n",
              "    </tr>\n",
              "  </thead>\n",
              "  <tbody>\n",
              "    <tr>\n",
              "      <th>0</th>\n",
              "      <td>0.004801</td>\n",
              "      <td>2.324351</td>\n",
              "      <td>-0.034073</td>\n",
              "      <td>0.0</td>\n",
              "      <td>0.0</td>\n",
              "      <td>0.0</td>\n",
              "      <td>0.0</td>\n",
              "      <td>0.0</td>\n",
              "      <td>0.0</td>\n",
              "      <td>0.0</td>\n",
              "      <td>0.0</td>\n",
              "      <td>9.0</td>\n",
              "      <td>0.000000</td>\n",
              "      <td>0.000000</td>\n",
              "      <td>0.000000</td>\n",
              "    </tr>\n",
              "    <tr>\n",
              "      <th>0</th>\n",
              "      <td>0.003472</td>\n",
              "      <td>2.349684</td>\n",
              "      <td>-0.068385</td>\n",
              "      <td>0.0</td>\n",
              "      <td>0.0</td>\n",
              "      <td>0.0</td>\n",
              "      <td>0.0</td>\n",
              "      <td>0.0</td>\n",
              "      <td>0.0</td>\n",
              "      <td>0.0</td>\n",
              "      <td>0.0</td>\n",
              "      <td>9.0</td>\n",
              "      <td>0.013226</td>\n",
              "      <td>-0.252056</td>\n",
              "      <td>0.341398</td>\n",
              "    </tr>\n",
              "    <tr>\n",
              "      <th>0</th>\n",
              "      <td>0.007294</td>\n",
              "      <td>2.128267</td>\n",
              "      <td>0.155320</td>\n",
              "      <td>0.0</td>\n",
              "      <td>0.0</td>\n",
              "      <td>0.0</td>\n",
              "      <td>0.0</td>\n",
              "      <td>0.0</td>\n",
              "      <td>0.0</td>\n",
              "      <td>0.0</td>\n",
              "      <td>0.0</td>\n",
              "      <td>9.0</td>\n",
              "      <td>-0.038033</td>\n",
              "      <td>2.203045</td>\n",
              "      <td>-2.225811</td>\n",
              "    </tr>\n",
              "    <tr>\n",
              "      <th>0</th>\n",
              "      <td>0.009740</td>\n",
              "      <td>1.995876</td>\n",
              "      <td>0.272307</td>\n",
              "      <td>0.0</td>\n",
              "      <td>0.0</td>\n",
              "      <td>0.0</td>\n",
              "      <td>0.0</td>\n",
              "      <td>0.0</td>\n",
              "      <td>0.0</td>\n",
              "      <td>0.0</td>\n",
              "      <td>0.0</td>\n",
              "      <td>9.0</td>\n",
              "      <td>-0.024334</td>\n",
              "      <td>1.317251</td>\n",
              "      <td>-1.163993</td>\n",
              "    </tr>\n",
              "    <tr>\n",
              "      <th>0</th>\n",
              "      <td>0.008505</td>\n",
              "      <td>2.060056</td>\n",
              "      <td>0.083699</td>\n",
              "      <td>0.0</td>\n",
              "      <td>0.0</td>\n",
              "      <td>0.0</td>\n",
              "      <td>0.0</td>\n",
              "      <td>0.0</td>\n",
              "      <td>0.0</td>\n",
              "      <td>0.0</td>\n",
              "      <td>0.0</td>\n",
              "      <td>9.0</td>\n",
              "      <td>0.012294</td>\n",
              "      <td>-0.638573</td>\n",
              "      <td>1.876606</td>\n",
              "    </tr>\n",
              "  </tbody>\n",
              "</table>\n",
              "</div>"
            ],
            "text/plain": [
              "          vx        vy        vz  ...        ax        ay        az\n",
              "id                                ...                              \n",
              "0   0.004801  2.324351 -0.034073  ...  0.000000  0.000000  0.000000\n",
              "0   0.003472  2.349684 -0.068385  ...  0.013226 -0.252056  0.341398\n",
              "0   0.007294  2.128267  0.155320  ... -0.038033  2.203045 -2.225811\n",
              "0   0.009740  1.995876  0.272307  ... -0.024334  1.317251 -1.163993\n",
              "0   0.008505  2.060056  0.083699  ...  0.012294 -0.638573  1.876606\n",
              "\n",
              "[5 rows x 15 columns]"
            ]
          },
          "metadata": {
            "tags": []
          },
          "execution_count": 20
        }
      ]
    },
    {
      "cell_type": "code",
      "metadata": {
        "id": "Lb3_MXF3_A7-",
        "colab_type": "code",
        "outputId": "52f4a911-3805-492e-aed3-e1d92c5c86dd",
        "colab": {
          "base_uri": "https://localhost:8080/",
          "height": 356
        }
      },
      "source": [
        "test['pred_ax'] = pred_Y\n",
        "\n",
        "test_sample_number = 0\n",
        "\n",
        "test_sample = test.loc[test_sample_number]\n",
        "\n",
        "test_sample = test_sample.reset_index()\n",
        "\n",
        "# Plot the forecast with the actuals\n",
        "f, ax = plt.subplots(1)\n",
        "\n",
        "f.set_figheight(5)\n",
        "f.set_figwidth(15)\n",
        "_ = test_sample[['ax', 'pred_ax']].plot(ax=ax, style=['-','--'])\n",
        "plot = plt.suptitle(\"basic feature test_sampe #{}\".format(test_sample_number))"
      ],
      "execution_count": 47,
      "outputs": [
        {
          "output_type": "display_data",
          "data": {
            "image/png": "[encoded data removed]",
            "text/plain": [
              "<Figure size 1080x360 with 1 Axes>"
            ]
          },
          "metadata": {
            "tags": []
          }
        }
      ]
    },
    {
      "cell_type": "code",
      "metadata": {
        "id": "rB6i7bScWlwk",
        "colab_type": "code",
        "outputId": "5feac92e-a9d7-438a-b023-1d744ac2fa28",
        "colab": {
          "base_uri": "https://localhost:8080/",
          "height": 295
        }
      },
      "source": [
        "_ = plot_importance(model_XGB_ax_regressor_basic, height=0.9, max_num_features = 10)"
      ],
      "execution_count": 48,
      "outputs": [
        {
          "output_type": "display_data",
          "data": {
            "image/png": "[encoded data removed]",
            "text/plain": [
              "<Figure size 432x288 with 1 Axes>"
            ]
          },
          "metadata": {
            "tags": []
          }
        }
      ]
    },
    {
      "cell_type": "markdown",
      "metadata": {
        "id": "jICsnFZrm86V",
        "colab_type": "text"
      },
      "source": [
        "## 7.2 12 basic features + image embedding"
      ]
    },
    {
      "cell_type": "code",
      "metadata": {
        "id": "crNOaicRZlBp",
        "colab_type": "code",
        "colab": {}
      },
      "source": [
        "X_train_embedding = np.load(training_embedding_path)\n",
        "X_test_embedding = np.load(test_embedding_path)\n",
        "\n",
        "assert X_train_embedding.shape[0] == X_train_basic.shape[0] == Y_train.shape[0]\n",
        "assert X_test_embedding.shape[0] == X_test_basic.shape[0] == Y_test.shape[0]"
      ],
      "execution_count": 0,
      "outputs": []
    },
    {
      "cell_type": "code",
      "metadata": {
        "id": "F-peOILGe6_G",
        "colab_type": "code",
        "outputId": "367582f7-bf44-460d-e7a5-4ac3978d46ec",
        "colab": {
          "base_uri": "https://localhost:8080/",
          "height": 34
        }
      },
      "source": [
        "embedding_dims = X_train_embedding.shape[1]\n",
        "\n",
        "# Adding embedding as part of data frame\n",
        "eb_cols = [\"eb_{}\".format(i) for i in range(embedding_dims)]\n",
        "X_train_img_pd = pd.DataFrame(data=X_train_embedding, columns=eb_cols)\n",
        "X_test_img_pd = pd.DataFrame(data=X_test_embedding, columns=eb_cols)\n",
        "\n",
        "print(X_train_img_pd.shape, X_test_img_pd.shape)"
      ],
      "execution_count": 52,
      "outputs": [
        {
          "output_type": "stream",
          "text": [
            "(9922, 1024) (4964, 1024)\n"
          ],
          "name": "stdout"
        }
      ]
    },
    {
      "cell_type": "code",
      "metadata": {
        "id": "mRNTvI9XiBzx",
        "colab_type": "code",
        "outputId": "91b106fc-59c6-4126-d3c2-3d440a85f9cc",
        "colab": {
          "base_uri": "https://localhost:8080/",
          "height": 68
        }
      },
      "source": [
        "# Reset index so that can be concated horz successfully\n",
        "X_train_basic_reidxed = X_train_basic.reset_index(drop=True)\n",
        "X_test_basic_reidxed = X_test_basic.reset_index(drop=True)\n",
        "\n",
        "X_train_full = pd.concat([X_train_basic_reidxed, X_train_img_pd], axis=1)\n",
        "X_test_full = pd.concat([X_test_basic_reidxed, X_test_img_pd], axis=1)\n",
        "\n",
        "print(X_train_full.shape, X_test_full.shape)\n",
        "\n",
        "X_train, X_val, y_train, y_val = train_test_split(X_train_full, Y_train)\n",
        "\n",
        "print(\"X_train.shape = {}, X_test.shape = {}\".format(X_train.shape, X_val.shape))\n",
        "print(\"y_train.shape = {}, y_test.shape = {}\".format(y_train.shape, y_val.shape))"
      ],
      "execution_count": 53,
      "outputs": [
        {
          "output_type": "stream",
          "text": [
            "(9922, 1036) (4964, 1036)\n",
            "X_train.shape = (7441, 1036), X_test.shape = (2481, 1036)\n",
            "y_train.shape = (7441,), y_test.shape = (2481,)\n"
          ],
          "name": "stdout"
        }
      ]
    },
    {
      "cell_type": "code",
      "metadata": {
        "id": "l8s56_nGWGN2",
        "colab_type": "code",
        "outputId": "2e915aa6-f8db-477d-8184-a4066bdb07b5",
        "colab": {
          "base_uri": "https://localhost:8080/",
          "height": 153
        }
      },
      "source": [
        "# GPU\n",
        "model_XGB_ax_regressor_full = xgboost.XGBRegressor(\n",
        "        gamma=0.05,learning_rate=0.05, max_depth=6,\n",
        "        n_estimators=2500,reg_alpha=0.5, reg_lambda=0.85, \n",
        "        tree_method='gpu_hist', gpu_id=0)\n",
        "\n",
        "model_XGB_ax_regressor_full.fit(X_train, y_train,\n",
        "        eval_set=[(X_train, y_train), (X_val, y_val)],\n",
        "        early_stopping_rounds=50, verbose=False)"
      ],
      "execution_count": 54,
      "outputs": [
        {
          "output_type": "stream",
          "text": [
            "[08:02:25] WARNING: /workspace/src/objective/regression_obj.cu:152: reg:linear is now deprecated in favor of reg:squarederror.\n"
          ],
          "name": "stdout"
        },
        {
          "output_type": "execute_result",
          "data": {
            "text/plain": [
              "XGBRegressor(base_score=0.5, booster='gbtree', colsample_bylevel=1,\n",
              "             colsample_bynode=1, colsample_bytree=1, gamma=0.05, gpu_id=0,\n",
              "             importance_type='gain', learning_rate=0.05, max_delta_step=0,\n",
              "             max_depth=6, min_child_weight=1, missing=None, n_estimators=2500,\n",
              "             n_jobs=1, nthread=None, objective='reg:linear', random_state=0,\n",
              "             reg_alpha=0.5, reg_lambda=0.85, scale_pos_weight=1, seed=None,\n",
              "             silent=None, subsample=1, tree_method='gpu_hist', verbosity=1)"
            ]
          },
          "metadata": {
            "tags": []
          },
          "execution_count": 54
        }
      ]
    },
    {
      "cell_type": "code",
      "metadata": {
        "id": "8o2dU6EjblTO",
        "colab_type": "code",
        "outputId": "50f0e590-4c6b-449f-e007-535bc00056c6",
        "colab": {
          "base_uri": "https://localhost:8080/",
          "height": 51
        }
      },
      "source": [
        "model_name = \"baseline\"\n",
        "y_label = \"ax\"\n",
        "\n",
        "print(\"Predicting {} on test data..\".format(model_name))\n",
        "pred_Y_full = model_XGB_ax_regressor_full.predict(X_test_full)\n",
        "print(\"MAE of {} for {} is {}\".format(model_name, y_label, mean_absolute_error(pred_Y_full, Y_test)))"
      ],
      "execution_count": 55,
      "outputs": [
        {
          "output_type": "stream",
          "text": [
            "Predicting baseline on test data..\n",
            "MAE of baseline for ax is 0.33442392975086466\n"
          ],
          "name": "stdout"
        }
      ]
    },
    {
      "cell_type": "code",
      "metadata": {
        "id": "h_kQtMmk_lhY",
        "colab_type": "code",
        "outputId": "c2c06647-76bf-4cad-b9b6-00fe1e1f3951",
        "colab": {
          "base_uri": "https://localhost:8080/",
          "height": 356
        }
      },
      "source": [
        "test['pred_ax_full'] = pred_Y_full\n",
        "\n",
        "test_sample_number = 3\n",
        "\n",
        "test_sample = test.loc[test_sample_number]\n",
        "\n",
        "test_sample = test_sample.reset_index()\n",
        "\n",
        "# Plot the forecast with the actuals\n",
        "f, ax = plt.subplots(1)\n",
        "\n",
        "f.set_figheight(5)\n",
        "f.set_figwidth(15)\n",
        "_ = test_sample[['ax', 'pred_ax', 'pred_ax_full']].plot(ax=ax, style=['-','--', ':'])\n",
        "plot = plt.suptitle(\"test_sample #{}\".format(test_sample_number))"
      ],
      "execution_count": 56,
      "outputs": [
        {
          "output_type": "display_data",
          "data": {
            "image/png": "[encoded data removed]",
            "text/plain": [
              "<Figure size 1080x360 with 1 Axes>"
            ]
          },
          "metadata": {
            "tags": []
          }
        }
      ]
    },
    {
      "cell_type": "code",
      "metadata": {
        "id": "NtlrI6jumgHw",
        "colab_type": "code",
        "outputId": "9b4cb2fb-4a8d-4396-e152-dbea3994aadb",
        "colab": {
          "base_uri": "https://localhost:8080/",
          "height": 295
        }
      },
      "source": [
        "_ = plot_importance(model_XGB_ax_regressor_full, height=0.9, max_num_features = 10)"
      ],
      "execution_count": 57,
      "outputs": [
        {
          "output_type": "display_data",
          "data": {
            "image/png": "[encoded data removed]",
            "text/plain": [
              "<Figure size 432x288 with 1 Axes>"
            ]
          },
          "metadata": {
            "tags": []
          }
        }
      ]
    }
  ]
}